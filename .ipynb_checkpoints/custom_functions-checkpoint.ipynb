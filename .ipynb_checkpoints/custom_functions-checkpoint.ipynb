{
 "cells": [
  {
   "cell_type": "markdown",
   "id": "52fd853f",
   "metadata": {},
   "source": [
    "## 1. Multiple Histograms\n"
   ]
  },
  {
   "cell_type": "code",
   "execution_count": 14,
   "id": "2dae690c",
   "metadata": {},
   "outputs": [],
   "source": [
    "def make_hist(df, figure_size=(15,10), box_size=(3,3),colour=\"lightsteelblue\", labels=[\"Value\", \"Frequency\"]):\n",
    "    import pandas as pd\n",
    "    import numpy as np\n",
    "    import matplotlib.pyplot as plt\n",
    "    \n",
    "    df = pd.DataFrame(df)\n",
    "    columns = df.columns\n",
    "    bin_width = int(np.sqrt(len(df)))\n",
    "    \n",
    "    plt.figure(figsize=figure_size)\n",
    "    \n",
    "    for i in range(len(columns)):\n",
    "        plt.subplot(box_size[0], box_size[1], i+1)  \n",
    "        plt.subplots_adjust(hspace=0.4)\n",
    "        plt.hist(df[columns[i]], bins=bin_width, color=colour, edgecolor='k')\n",
    "        plt.title(columns[i])\n",
    "        plt.xlabel(labels[0])\n",
    "        plt.ylabel(labels[1])\n",
    "    plt.show()"
   ]
  },
  {
   "cell_type": "markdown",
   "id": "83dca458",
   "metadata": {},
   "source": [
    "## 2. Get Zero Values"
   ]
  },
  {
   "cell_type": "code",
   "execution_count": 15,
   "id": "26cbafec",
   "metadata": {},
   "outputs": [],
   "source": [
    "def get_zeros(df):\n",
    "    import pandas as pd\n",
    "    import numpy as np\n",
    "    import matplotlib.pyplot as plt\n",
    "    \n",
    "    df = pd.DataFrame(df)\n",
    "    \n",
    "    columns = df.columns\n",
    "    col_name = []\n",
    "    zero_count = [0 for col in range(len(columns))]\n",
    "    \n",
    "    for i in range(len(columns)):\n",
    "        col_name.append(columns[i])\n",
    "        for j in range(len(df[columns[i]])):\n",
    "            if ((df[columns[i]][j]) == 0):\n",
    "                zero_count[i]+= 1\n",
    "        \n",
    "        print(col_name[i], \"Zero Values: \", zero_count[i])"
   ]
  },
  {
   "cell_type": "markdown",
   "id": "2d74047c",
   "metadata": {},
   "source": [
    "## 3. Print Classification Metrics"
   ]
  },
  {
   "cell_type": "code",
   "execution_count": 16,
   "id": "afb94b6f",
   "metadata": {},
   "outputs": [],
   "source": [
    "def show_metrics(accuracy,confusion,classification_rep):\n",
    "    print(f\"Accuracy: {accuracy}\")\n",
    "    print(f\"Confusion Matrix:\\n{confusion}\")\n",
    "    print(f\"Classification Report:\\n{classification_rep}\")"
   ]
  },
  {
   "cell_type": "code",
   "execution_count": null,
   "id": "254289fb",
   "metadata": {},
   "outputs": [],
   "source": []
  },
  {
   "cell_type": "code",
   "execution_count": null,
   "id": "b3ba3657",
   "metadata": {},
   "outputs": [],
   "source": []
  },
  {
   "cell_type": "code",
   "execution_count": null,
   "id": "7cda28ef",
   "metadata": {},
   "outputs": [],
   "source": []
  },
  {
   "cell_type": "code",
   "execution_count": null,
   "id": "5f6c984a",
   "metadata": {},
   "outputs": [],
   "source": []
  },
  {
   "cell_type": "code",
   "execution_count": null,
   "id": "738c5133",
   "metadata": {},
   "outputs": [],
   "source": []
  },
  {
   "cell_type": "code",
   "execution_count": null,
   "id": "13f757b9",
   "metadata": {},
   "outputs": [],
   "source": []
  },
  {
   "cell_type": "code",
   "execution_count": null,
   "id": "9c70b6df",
   "metadata": {},
   "outputs": [],
   "source": []
  },
  {
   "cell_type": "code",
   "execution_count": null,
   "id": "ed2019ed",
   "metadata": {},
   "outputs": [],
   "source": []
  },
  {
   "cell_type": "code",
   "execution_count": null,
   "id": "3f31f4fc",
   "metadata": {},
   "outputs": [],
   "source": []
  },
  {
   "cell_type": "code",
   "execution_count": null,
   "id": "d986fa6c",
   "metadata": {},
   "outputs": [],
   "source": []
  },
  {
   "cell_type": "code",
   "execution_count": null,
   "id": "15c63379",
   "metadata": {},
   "outputs": [],
   "source": []
  },
  {
   "cell_type": "code",
   "execution_count": null,
   "id": "086d5008",
   "metadata": {},
   "outputs": [],
   "source": []
  },
  {
   "cell_type": "code",
   "execution_count": null,
   "id": "610c11e9",
   "metadata": {},
   "outputs": [],
   "source": []
  }
 ],
 "metadata": {
  "kernelspec": {
   "display_name": "Python 3 (ipykernel)",
   "language": "python",
   "name": "python3"
  },
  "language_info": {
   "codemirror_mode": {
    "name": "ipython",
    "version": 3
   },
   "file_extension": ".py",
   "mimetype": "text/x-python",
   "name": "python",
   "nbconvert_exporter": "python",
   "pygments_lexer": "ipython3",
   "version": "3.9.13"
  }
 },
 "nbformat": 4,
 "nbformat_minor": 5
}
