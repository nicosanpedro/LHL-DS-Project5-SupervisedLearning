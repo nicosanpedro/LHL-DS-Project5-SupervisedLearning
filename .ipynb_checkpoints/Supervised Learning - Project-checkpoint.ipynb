{
 "cells": [
  {
   "cell_type": "markdown",
   "id": "3e985673",
   "metadata": {},
   "source": [
    "# Supervised Learning - Project"
   ]
  },
  {
   "cell_type": "markdown",
   "id": "08aa509e",
   "metadata": {},
   "source": [
    "In this Project, we are going to perform a full supervised learning machine learning project on a \"Diabetes\" dataset. This dataset is originally from the National Institute of Diabetes and Digestive and Kidney\n",
    "Diseases. The objective of the dataset is to diagnostically predict whether a patient has diabetes,\n",
    "based on certain diagnostic measurements included in the dataset. \n",
    "\n",
    "[Kaggle Dataset](https://www.kaggle.com/datasets/akshaydattatraykhare/diabetes-dataset)"
   ]
  },
  {
   "cell_type": "markdown",
   "id": "4e3e6a19",
   "metadata": {},
   "source": [
    "# Part I : EDA - Exploratory Data Analysis"
   ]
  },
  {
   "cell_type": "markdown",
   "id": "0d46714a",
   "metadata": {},
   "source": [
    "For this task, you are required to conduct an exploratory data analysis on the diabetes dataset. You have the freedom to choose the visualizations you want to use, but your analysis should cover the following tasks mostly:\n",
    "\n",
    "- Are there any missing values in the dataset?\n",
    "- How are the predictor variables related to the outcome variable?\n",
    "- What is the correlation between the predictor variables?\n",
    "- What is the distribution of each predictor variable?\n",
    "- Are there any outliers in the predictor variables?\n",
    "- How are the predictor variables related to each other?\n",
    "- Is there any interaction effect between the predictor variables?\n",
    "- What is the average age of the individuals in the dataset?\n",
    "- What is the average glucose level for individuals with diabetes and without diabetes?\n",
    "- What is the average BMI for individuals with diabetes and without diabetes?\n",
    "- How does the distribution of the predictor variables differ for individuals with diabetes and without diabetes?\n",
    "- Are there any differences in the predictor variables between males and females (if gender information is available)?"
   ]
  },
  {
   "cell_type": "markdown",
   "id": "1c1c1bf3",
   "metadata": {},
   "source": [
    "# Loading Functions"
   ]
  },
  {
   "cell_type": "code",
   "execution_count": 116,
   "id": "a45d2caf",
   "metadata": {},
   "outputs": [
    {
     "name": "stdout",
     "output_type": "stream",
     "text": [
      "[NbConvertApp] Converting notebook custom_functions.ipynb to script\n",
      "[NbConvertApp] Writing 1695 bytes to custom_functions.py\n"
     ]
    }
   ],
   "source": [
    "!jupyter nbconvert --to script custom_functions.ipynb"
   ]
  },
  {
   "cell_type": "code",
   "execution_count": 117,
   "id": "f3fdddfe",
   "metadata": {},
   "outputs": [],
   "source": [
    "from custom_functions import *"
   ]
  },
  {
   "cell_type": "markdown",
   "id": "9dcfa7eb",
   "metadata": {},
   "source": [
    "## Loading Dataframe"
   ]
  },
  {
   "cell_type": "code",
   "execution_count": 9,
   "id": "b14ff633",
   "metadata": {},
   "outputs": [],
   "source": [
    "import pandas as pd\n",
    "import numpy as np\n",
    "import matplotlib.pyplot as plt"
   ]
  },
  {
   "cell_type": "code",
   "execution_count": 10,
   "id": "9ca1ac23",
   "metadata": {},
   "outputs": [],
   "source": [
    "raw_df = pd.read_csv(\"data/diabetes.csv\")"
   ]
  },
  {
   "cell_type": "code",
   "execution_count": 11,
   "id": "ef0aea72",
   "metadata": {},
   "outputs": [
    {
     "data": {
      "text/plain": [
       "(768, 9)"
      ]
     },
     "execution_count": 11,
     "metadata": {},
     "output_type": "execute_result"
    }
   ],
   "source": [
    "raw_df.shape"
   ]
  },
  {
   "cell_type": "code",
   "execution_count": 12,
   "id": "b20dab26",
   "metadata": {},
   "outputs": [
    {
     "data": {
      "text/html": [
       "<div>\n",
       "<style scoped>\n",
       "    .dataframe tbody tr th:only-of-type {\n",
       "        vertical-align: middle;\n",
       "    }\n",
       "\n",
       "    .dataframe tbody tr th {\n",
       "        vertical-align: top;\n",
       "    }\n",
       "\n",
       "    .dataframe thead th {\n",
       "        text-align: right;\n",
       "    }\n",
       "</style>\n",
       "<table border=\"1\" class=\"dataframe\">\n",
       "  <thead>\n",
       "    <tr style=\"text-align: right;\">\n",
       "      <th></th>\n",
       "      <th>Pregnancies</th>\n",
       "      <th>Glucose</th>\n",
       "      <th>BloodPressure</th>\n",
       "      <th>SkinThickness</th>\n",
       "      <th>Insulin</th>\n",
       "      <th>BMI</th>\n",
       "      <th>DiabetesPedigreeFunction</th>\n",
       "      <th>Age</th>\n",
       "      <th>Outcome</th>\n",
       "    </tr>\n",
       "  </thead>\n",
       "  <tbody>\n",
       "    <tr>\n",
       "      <th>0</th>\n",
       "      <td>6</td>\n",
       "      <td>148</td>\n",
       "      <td>72</td>\n",
       "      <td>35</td>\n",
       "      <td>0</td>\n",
       "      <td>33.6</td>\n",
       "      <td>0.627</td>\n",
       "      <td>50</td>\n",
       "      <td>1</td>\n",
       "    </tr>\n",
       "    <tr>\n",
       "      <th>1</th>\n",
       "      <td>1</td>\n",
       "      <td>85</td>\n",
       "      <td>66</td>\n",
       "      <td>29</td>\n",
       "      <td>0</td>\n",
       "      <td>26.6</td>\n",
       "      <td>0.351</td>\n",
       "      <td>31</td>\n",
       "      <td>0</td>\n",
       "    </tr>\n",
       "    <tr>\n",
       "      <th>2</th>\n",
       "      <td>8</td>\n",
       "      <td>183</td>\n",
       "      <td>64</td>\n",
       "      <td>0</td>\n",
       "      <td>0</td>\n",
       "      <td>23.3</td>\n",
       "      <td>0.672</td>\n",
       "      <td>32</td>\n",
       "      <td>1</td>\n",
       "    </tr>\n",
       "    <tr>\n",
       "      <th>3</th>\n",
       "      <td>1</td>\n",
       "      <td>89</td>\n",
       "      <td>66</td>\n",
       "      <td>23</td>\n",
       "      <td>94</td>\n",
       "      <td>28.1</td>\n",
       "      <td>0.167</td>\n",
       "      <td>21</td>\n",
       "      <td>0</td>\n",
       "    </tr>\n",
       "    <tr>\n",
       "      <th>4</th>\n",
       "      <td>0</td>\n",
       "      <td>137</td>\n",
       "      <td>40</td>\n",
       "      <td>35</td>\n",
       "      <td>168</td>\n",
       "      <td>43.1</td>\n",
       "      <td>2.288</td>\n",
       "      <td>33</td>\n",
       "      <td>1</td>\n",
       "    </tr>\n",
       "  </tbody>\n",
       "</table>\n",
       "</div>"
      ],
      "text/plain": [
       "   Pregnancies  Glucose  BloodPressure  SkinThickness  Insulin   BMI  \\\n",
       "0            6      148             72             35        0  33.6   \n",
       "1            1       85             66             29        0  26.6   \n",
       "2            8      183             64              0        0  23.3   \n",
       "3            1       89             66             23       94  28.1   \n",
       "4            0      137             40             35      168  43.1   \n",
       "\n",
       "   DiabetesPedigreeFunction  Age  Outcome  \n",
       "0                     0.627   50        1  \n",
       "1                     0.351   31        0  \n",
       "2                     0.672   32        1  \n",
       "3                     0.167   21        0  \n",
       "4                     2.288   33        1  "
      ]
     },
     "execution_count": 12,
     "metadata": {},
     "output_type": "execute_result"
    }
   ],
   "source": [
    "raw_df.head()"
   ]
  },
  {
   "cell_type": "markdown",
   "id": "3a49e7f4",
   "metadata": {},
   "source": [
    "The dataset have 768 rows and 9 columns"
   ]
  },
  {
   "cell_type": "markdown",
   "id": "cbd5a369",
   "metadata": {},
   "source": [
    " "
   ]
  },
  {
   "cell_type": "markdown",
   "id": "524aa95d",
   "metadata": {},
   "source": [
    "## Duplicate Values"
   ]
  },
  {
   "cell_type": "code",
   "execution_count": 13,
   "id": "b77c2310",
   "metadata": {},
   "outputs": [
    {
     "data": {
      "text/plain": [
       "False    768\n",
       "dtype: int64"
      ]
     },
     "execution_count": 13,
     "metadata": {},
     "output_type": "execute_result"
    }
   ],
   "source": [
    "raw_df.duplicated().value_counts()"
   ]
  },
  {
   "cell_type": "markdown",
   "id": "9f6bf6f9",
   "metadata": {},
   "source": [
    "There are no duplicated rows in the dataset"
   ]
  },
  {
   "cell_type": "markdown",
   "id": "c9c7a094",
   "metadata": {},
   "source": [
    "## Null Values"
   ]
  },
  {
   "cell_type": "code",
   "execution_count": 14,
   "id": "4fd7cbd8",
   "metadata": {
    "scrolled": false
   },
   "outputs": [
    {
     "data": {
      "text/plain": [
       "Pregnancies                 0\n",
       "Glucose                     0\n",
       "BloodPressure               0\n",
       "SkinThickness               0\n",
       "Insulin                     0\n",
       "BMI                         0\n",
       "DiabetesPedigreeFunction    0\n",
       "Age                         0\n",
       "Outcome                     0\n",
       "dtype: int64"
      ]
     },
     "execution_count": 14,
     "metadata": {},
     "output_type": "execute_result"
    }
   ],
   "source": [
    "# Checking for null values\n",
    "raw_df.isnull().sum()"
   ]
  },
  {
   "cell_type": "markdown",
   "id": "dc00996c",
   "metadata": {},
   "source": [
    "The dataset have no null values"
   ]
  },
  {
   "cell_type": "markdown",
   "id": "0d1d7f4b",
   "metadata": {},
   "source": [
    " "
   ]
  },
  {
   "cell_type": "markdown",
   "id": "28103d3e",
   "metadata": {},
   "source": [
    "## Zero Values"
   ]
  },
  {
   "cell_type": "code",
   "execution_count": 15,
   "id": "95b9e676",
   "metadata": {},
   "outputs": [
    {
     "name": "stdout",
     "output_type": "stream",
     "text": [
      "Pregnancies Zero Values:  111\n",
      "Glucose Zero Values:  5\n",
      "BloodPressure Zero Values:  35\n",
      "SkinThickness Zero Values:  227\n",
      "Insulin Zero Values:  374\n",
      "BMI Zero Values:  11\n",
      "DiabetesPedigreeFunction Zero Values:  0\n",
      "Age Zero Values:  0\n",
      "Outcome Zero Values:  500\n"
     ]
    }
   ],
   "source": [
    "get_zeros(raw_df)"
   ]
  },
  {
   "cell_type": "markdown",
   "id": "220259f0",
   "metadata": {},
   "source": [
    "There are significant number of rows which have zero values in both Skin Thickness and Insulin features. This findings should be considered when creating a model.\n",
    "\n",
    "On the other hand, Glucose, Blood Pressure and BMI features have a small number of rows with zero values with may not affect the model, but will still consider later."
   ]
  },
  {
   "cell_type": "markdown",
   "id": "8c7ac6fd",
   "metadata": {},
   "source": [
    "## Grouping Dataset by Outcome"
   ]
  },
  {
   "cell_type": "code",
   "execution_count": 16,
   "id": "353e3c6b",
   "metadata": {},
   "outputs": [],
   "source": [
    "raw_df_outcomeTrue = raw_df[raw_df[\"Outcome\"] == 1]\n",
    "raw_df_outcomeFalse = raw_df[raw_df[\"Outcome\"] == 0]"
   ]
  },
  {
   "cell_type": "code",
   "execution_count": 17,
   "id": "6b4ef1f8",
   "metadata": {},
   "outputs": [
    {
     "data": {
      "text/plain": [
       "(268, 9)"
      ]
     },
     "execution_count": 17,
     "metadata": {},
     "output_type": "execute_result"
    }
   ],
   "source": [
    "raw_df_outcomeTrue.shape"
   ]
  },
  {
   "cell_type": "code",
   "execution_count": 18,
   "id": "0d0c1365",
   "metadata": {},
   "outputs": [
    {
     "data": {
      "text/plain": [
       "(500, 9)"
      ]
     },
     "execution_count": 18,
     "metadata": {},
     "output_type": "execute_result"
    }
   ],
   "source": [
    "raw_df_outcomeFalse.shape"
   ]
  },
  {
   "cell_type": "code",
   "execution_count": 19,
   "id": "8a058e6c",
   "metadata": {},
   "outputs": [
    {
     "data": {
      "image/png": "[encoded data removed]",
      "text/plain": [
       "<Figure size 300x300 with 1 Axes>"
      ]
     },
     "metadata": {},
     "output_type": "display_data"
    }
   ],
   "source": [
    "plt.figure(figsize=(3,3))\n",
    "plt.pie((raw_df_outcomeTrue.shape[0], raw_df_outcomeFalse.shape[0]), \n",
    "        labels=(\"Outcome = 1\", \"Outcome = 0\"),\n",
    "       autopct='%1.1f%%')\n",
    "plt.show()"
   ]
  },
  {
   "cell_type": "markdown",
   "id": "0543eddf",
   "metadata": {},
   "source": [
    "About one-third of the data is composed of instances where the diabetic outcome is equal to 1."
   ]
  },
  {
   "cell_type": "markdown",
   "id": "8660bd7d",
   "metadata": {},
   "source": [
    " "
   ]
  },
  {
   "cell_type": "markdown",
   "id": "d868ae79",
   "metadata": {},
   "source": [
    "## Summary Statistics and Histograms of All Data"
   ]
  },
  {
   "cell_type": "code",
   "execution_count": 20,
   "id": "02c7d1ed",
   "metadata": {},
   "outputs": [],
   "source": [
    "plot_title = [\"Pregnancy\", \"Glucose\", \"Blood Pressure\", \n",
    "              \"Skin Thickness\", \"Insulin\", \"BMI\", \n",
    "              \"Diabetes Pedigree Function\", \"Age\", \"Outcome\"]\n",
    "data_columns = raw_df.columns\n",
    "\n",
    "bin_width = int(np.sqrt(len(raw_df)))"
   ]
  },
  {
   "cell_type": "code",
   "execution_count": 21,
   "id": "6f855bb2",
   "metadata": {},
   "outputs": [
    {
     "data": {
      "image/png": "[encoded data removed]",
      "text/plain": [
       "<Figure size 1500x1000 with 9 Axes>"
      ]
     },
     "metadata": {},
     "output_type": "display_data"
    }
   ],
   "source": [
    "# Create dataset's histograms\n",
    "\n",
    "make_hist(raw_df)"
   ]
  },
  {
   "cell_type": "markdown",
   "id": "c6c1edde",
   "metadata": {},
   "source": [
    "#### Shape of Data (All Data)\n",
    "1. Skewed to the Left - None of the features have a left skewed distribution shape.\n",
    "    - None\n",
    "    \n",
    "    \n",
    "2. Skewed to the right - The following features are skewed to the right\n",
    "    - Pregnancy\n",
    "    - Insulin\n",
    "    - Skin Thickness\n",
    "    - Diabetes Pregnancy Function\n",
    "    - Age\n",
    "    \n",
    "    \n",
    "3. Normal Distribution - The following features are somewhat normally distributed\n",
    "    - Glucose\n",
    "    - Blood Pressure\n",
    "    - BMI\n",
    "    \n",
    "    \n",
    "4. Outliers - The following features have some outliers in the zero-value point which signifies an absence of data upon the collection of the data instance.\n",
    "    - Pregnancy\n",
    "    - Skin Thickness\n",
    "    - Insulin\n",
    "    - Blood Pressure"
   ]
  },
  {
   "cell_type": "markdown",
   "id": "db2b2e6d",
   "metadata": {},
   "source": [
    "## Summary Statistics and Histograms of Data with Outcome = 1"
   ]
  },
  {
   "cell_type": "code",
   "execution_count": 22,
   "id": "505803d0",
   "metadata": {},
   "outputs": [
    {
     "data": {
      "image/png": "[encoded data removed]",
      "text/plain": [
       "<Figure size 1500x1000 with 9 Axes>"
      ]
     },
     "metadata": {},
     "output_type": "display_data"
    }
   ],
   "source": [
    "# Create dataset's histograms\n",
    "\n",
    "make_hist(raw_df_outcomeTrue, colour=\"tomato\")"
   ]
  },
  {
   "cell_type": "markdown",
   "id": "655dda2f",
   "metadata": {},
   "source": [
    "#### Shape of Data (All Data)\n",
    "1. Skewed to the Left - The following features are somewhat skewed to the left and the shape is somewhat affected by the outliers.\n",
    "    - Glucose\n",
    "    - Blood Pressure\n",
    "    \n",
    "    \n",
    "2. Skewed to the right - The following features are skewed to the right\n",
    "    - Pregnancy\n",
    "    - Insulin\n",
    "    - Skin Thickness\n",
    "    - Diabetes Pregnancy Function\n",
    "    - Age\n",
    "    \n",
    "    \n",
    "3. Normal Distribution - The following features are somewhat normally distributed\n",
    "    - BMI\n",
    "    \n",
    "    \n",
    "4. Outliers - The following features have some outliers in the zero-value point which signifies an absence of data upon the collection of the data instance.\n",
    "    - Pregnancy\n",
    "    - Skin Thickness\n",
    "    - Insulin\n",
    "    - Blood Pressure"
   ]
  },
  {
   "cell_type": "markdown",
   "id": "32876907",
   "metadata": {},
   "source": [
    "## Summary Statistics and Histograms of Data with Outcome = 0"
   ]
  },
  {
   "cell_type": "code",
   "execution_count": 23,
   "id": "aa8721b0",
   "metadata": {},
   "outputs": [
    {
     "data": {
      "image/png": "[encoded data removed]",
      "text/plain": [
       "<Figure size 1500x1000 with 9 Axes>"
      ]
     },
     "metadata": {},
     "output_type": "display_data"
    }
   ],
   "source": [
    "# Create dataset's histograms\n",
    "\n",
    "make_hist(raw_df_outcomeFalse, colour=\"goldenrod\")"
   ]
  },
  {
   "cell_type": "markdown",
   "id": "2cf4a5ae",
   "metadata": {},
   "source": [
    "#### Shape of Data (All Data)\n",
    "1. Skewed to the Left - The following features are somewhat skewed to the left and the shape is somewhat affected by the outliers.\n",
    "    - Glucose\n",
    "    - Blood Pressure\n",
    "    \n",
    "    \n",
    "2. Skewed to the right - The following features are skewed to the right\n",
    "    - Pregnancy\n",
    "    - Insulin\n",
    "    - Skin Thickness\n",
    "    - Diabetes Pregnancy Function\n",
    "    - Age\n",
    "    \n",
    "    \n",
    "3. Normal Distribution - The following features are somewhat normally distributed\n",
    "    - BMI\n",
    "    \n",
    "    \n",
    "4. Outliers - The following features have some outliers in the zero-value point which signifies an absence of data upon the collection of the data instance.\n",
    "    - Pregnancy\n",
    "    - Skin Thickness\n",
    "    - Insulin\n",
    "    - Blood Pressure"
   ]
  },
  {
   "cell_type": "markdown",
   "id": "3e80d025",
   "metadata": {},
   "source": [
    "## Summary Statistics of All Data Instances"
   ]
  },
  {
   "cell_type": "code",
   "execution_count": 24,
   "id": "4de3a8e8",
   "metadata": {
    "scrolled": false
   },
   "outputs": [
    {
     "data": {
      "text/html": [
       "<div>\n",
       "<style scoped>\n",
       "    .dataframe tbody tr th:only-of-type {\n",
       "        vertical-align: middle;\n",
       "    }\n",
       "\n",
       "    .dataframe tbody tr th {\n",
       "        vertical-align: top;\n",
       "    }\n",
       "\n",
       "    .dataframe thead th {\n",
       "        text-align: right;\n",
       "    }\n",
       "</style>\n",
       "<table border=\"1\" class=\"dataframe\">\n",
       "  <thead>\n",
       "    <tr style=\"text-align: right;\">\n",
       "      <th></th>\n",
       "      <th>Pregnancies</th>\n",
       "      <th>Glucose</th>\n",
       "      <th>BloodPressure</th>\n",
       "      <th>SkinThickness</th>\n",
       "      <th>Insulin</th>\n",
       "      <th>BMI</th>\n",
       "      <th>DiabetesPedigreeFunction</th>\n",
       "      <th>Age</th>\n",
       "      <th>Outcome</th>\n",
       "    </tr>\n",
       "  </thead>\n",
       "  <tbody>\n",
       "    <tr>\n",
       "      <th>count</th>\n",
       "      <td>768.000000</td>\n",
       "      <td>768.000000</td>\n",
       "      <td>768.000000</td>\n",
       "      <td>768.000000</td>\n",
       "      <td>768.000000</td>\n",
       "      <td>768.000000</td>\n",
       "      <td>768.000000</td>\n",
       "      <td>768.000000</td>\n",
       "      <td>768.000000</td>\n",
       "    </tr>\n",
       "    <tr>\n",
       "      <th>mean</th>\n",
       "      <td>3.845052</td>\n",
       "      <td>120.894531</td>\n",
       "      <td>69.105469</td>\n",
       "      <td>20.536458</td>\n",
       "      <td>79.799479</td>\n",
       "      <td>31.992578</td>\n",
       "      <td>0.471876</td>\n",
       "      <td>33.240885</td>\n",
       "      <td>0.348958</td>\n",
       "    </tr>\n",
       "    <tr>\n",
       "      <th>std</th>\n",
       "      <td>3.369578</td>\n",
       "      <td>31.972618</td>\n",
       "      <td>19.355807</td>\n",
       "      <td>15.952218</td>\n",
       "      <td>115.244002</td>\n",
       "      <td>7.884160</td>\n",
       "      <td>0.331329</td>\n",
       "      <td>11.760232</td>\n",
       "      <td>0.476951</td>\n",
       "    </tr>\n",
       "    <tr>\n",
       "      <th>min</th>\n",
       "      <td>0.000000</td>\n",
       "      <td>0.000000</td>\n",
       "      <td>0.000000</td>\n",
       "      <td>0.000000</td>\n",
       "      <td>0.000000</td>\n",
       "      <td>0.000000</td>\n",
       "      <td>0.078000</td>\n",
       "      <td>21.000000</td>\n",
       "      <td>0.000000</td>\n",
       "    </tr>\n",
       "    <tr>\n",
       "      <th>25%</th>\n",
       "      <td>1.000000</td>\n",
       "      <td>99.000000</td>\n",
       "      <td>62.000000</td>\n",
       "      <td>0.000000</td>\n",
       "      <td>0.000000</td>\n",
       "      <td>27.300000</td>\n",
       "      <td>0.243750</td>\n",
       "      <td>24.000000</td>\n",
       "      <td>0.000000</td>\n",
       "    </tr>\n",
       "    <tr>\n",
       "      <th>50%</th>\n",
       "      <td>3.000000</td>\n",
       "      <td>117.000000</td>\n",
       "      <td>72.000000</td>\n",
       "      <td>23.000000</td>\n",
       "      <td>30.500000</td>\n",
       "      <td>32.000000</td>\n",
       "      <td>0.372500</td>\n",
       "      <td>29.000000</td>\n",
       "      <td>0.000000</td>\n",
       "    </tr>\n",
       "    <tr>\n",
       "      <th>75%</th>\n",
       "      <td>6.000000</td>\n",
       "      <td>140.250000</td>\n",
       "      <td>80.000000</td>\n",
       "      <td>32.000000</td>\n",
       "      <td>127.250000</td>\n",
       "      <td>36.600000</td>\n",
       "      <td>0.626250</td>\n",
       "      <td>41.000000</td>\n",
       "      <td>1.000000</td>\n",
       "    </tr>\n",
       "    <tr>\n",
       "      <th>max</th>\n",
       "      <td>17.000000</td>\n",
       "      <td>199.000000</td>\n",
       "      <td>122.000000</td>\n",
       "      <td>99.000000</td>\n",
       "      <td>846.000000</td>\n",
       "      <td>67.100000</td>\n",
       "      <td>2.420000</td>\n",
       "      <td>81.000000</td>\n",
       "      <td>1.000000</td>\n",
       "    </tr>\n",
       "  </tbody>\n",
       "</table>\n",
       "</div>"
      ],
      "text/plain": [
       "       Pregnancies     Glucose  BloodPressure  SkinThickness     Insulin  \\\n",
       "count   768.000000  768.000000     768.000000     768.000000  768.000000   \n",
       "mean      3.845052  120.894531      69.105469      20.536458   79.799479   \n",
       "std       3.369578   31.972618      19.355807      15.952218  115.244002   \n",
       "min       0.000000    0.000000       0.000000       0.000000    0.000000   \n",
       "25%       1.000000   99.000000      62.000000       0.000000    0.000000   \n",
       "50%       3.000000  117.000000      72.000000      23.000000   30.500000   \n",
       "75%       6.000000  140.250000      80.000000      32.000000  127.250000   \n",
       "max      17.000000  199.000000     122.000000      99.000000  846.000000   \n",
       "\n",
       "              BMI  DiabetesPedigreeFunction         Age     Outcome  \n",
       "count  768.000000                768.000000  768.000000  768.000000  \n",
       "mean    31.992578                  0.471876   33.240885    0.348958  \n",
       "std      7.884160                  0.331329   11.760232    0.476951  \n",
       "min      0.000000                  0.078000   21.000000    0.000000  \n",
       "25%     27.300000                  0.243750   24.000000    0.000000  \n",
       "50%     32.000000                  0.372500   29.000000    0.000000  \n",
       "75%     36.600000                  0.626250   41.000000    1.000000  \n",
       "max     67.100000                  2.420000   81.000000    1.000000  "
      ]
     },
     "execution_count": 24,
     "metadata": {},
     "output_type": "execute_result"
    }
   ],
   "source": [
    "#Summary Statistics of All Data\n",
    "sum_stat_all = pd.DataFrame(raw_df.describe())\n",
    "sum_stat_all"
   ]
  },
  {
   "cell_type": "markdown",
   "id": "05e1ab20",
   "metadata": {},
   "source": [
    "## Summary Statistics of Instances where Outcome = 1"
   ]
  },
  {
   "cell_type": "code",
   "execution_count": 25,
   "id": "4c78b333",
   "metadata": {
    "scrolled": false
   },
   "outputs": [
    {
     "data": {
      "text/html": [
       "<div>\n",
       "<style scoped>\n",
       "    .dataframe tbody tr th:only-of-type {\n",
       "        vertical-align: middle;\n",
       "    }\n",
       "\n",
       "    .dataframe tbody tr th {\n",
       "        vertical-align: top;\n",
       "    }\n",
       "\n",
       "    .dataframe thead th {\n",
       "        text-align: right;\n",
       "    }\n",
       "</style>\n",
       "<table border=\"1\" class=\"dataframe\">\n",
       "  <thead>\n",
       "    <tr style=\"text-align: right;\">\n",
       "      <th></th>\n",
       "      <th>Pregnancies</th>\n",
       "      <th>Glucose</th>\n",
       "      <th>BloodPressure</th>\n",
       "      <th>SkinThickness</th>\n",
       "      <th>Insulin</th>\n",
       "      <th>BMI</th>\n",
       "      <th>DiabetesPedigreeFunction</th>\n",
       "      <th>Age</th>\n",
       "      <th>Outcome</th>\n",
       "    </tr>\n",
       "  </thead>\n",
       "  <tbody>\n",
       "    <tr>\n",
       "      <th>count</th>\n",
       "      <td>268.000000</td>\n",
       "      <td>268.000000</td>\n",
       "      <td>268.000000</td>\n",
       "      <td>268.000000</td>\n",
       "      <td>268.000000</td>\n",
       "      <td>268.000000</td>\n",
       "      <td>268.000000</td>\n",
       "      <td>268.000000</td>\n",
       "      <td>268.0</td>\n",
       "    </tr>\n",
       "    <tr>\n",
       "      <th>mean</th>\n",
       "      <td>4.865672</td>\n",
       "      <td>141.257463</td>\n",
       "      <td>70.824627</td>\n",
       "      <td>22.164179</td>\n",
       "      <td>100.335821</td>\n",
       "      <td>35.142537</td>\n",
       "      <td>0.550500</td>\n",
       "      <td>37.067164</td>\n",
       "      <td>1.0</td>\n",
       "    </tr>\n",
       "    <tr>\n",
       "      <th>std</th>\n",
       "      <td>3.741239</td>\n",
       "      <td>31.939622</td>\n",
       "      <td>21.491812</td>\n",
       "      <td>17.679711</td>\n",
       "      <td>138.689125</td>\n",
       "      <td>7.262967</td>\n",
       "      <td>0.372354</td>\n",
       "      <td>10.968254</td>\n",
       "      <td>0.0</td>\n",
       "    </tr>\n",
       "    <tr>\n",
       "      <th>min</th>\n",
       "      <td>0.000000</td>\n",
       "      <td>0.000000</td>\n",
       "      <td>0.000000</td>\n",
       "      <td>0.000000</td>\n",
       "      <td>0.000000</td>\n",
       "      <td>0.000000</td>\n",
       "      <td>0.088000</td>\n",
       "      <td>21.000000</td>\n",
       "      <td>1.0</td>\n",
       "    </tr>\n",
       "    <tr>\n",
       "      <th>25%</th>\n",
       "      <td>1.750000</td>\n",
       "      <td>119.000000</td>\n",
       "      <td>66.000000</td>\n",
       "      <td>0.000000</td>\n",
       "      <td>0.000000</td>\n",
       "      <td>30.800000</td>\n",
       "      <td>0.262500</td>\n",
       "      <td>28.000000</td>\n",
       "      <td>1.0</td>\n",
       "    </tr>\n",
       "    <tr>\n",
       "      <th>50%</th>\n",
       "      <td>4.000000</td>\n",
       "      <td>140.000000</td>\n",
       "      <td>74.000000</td>\n",
       "      <td>27.000000</td>\n",
       "      <td>0.000000</td>\n",
       "      <td>34.250000</td>\n",
       "      <td>0.449000</td>\n",
       "      <td>36.000000</td>\n",
       "      <td>1.0</td>\n",
       "    </tr>\n",
       "    <tr>\n",
       "      <th>75%</th>\n",
       "      <td>8.000000</td>\n",
       "      <td>167.000000</td>\n",
       "      <td>82.000000</td>\n",
       "      <td>36.000000</td>\n",
       "      <td>167.250000</td>\n",
       "      <td>38.775000</td>\n",
       "      <td>0.728000</td>\n",
       "      <td>44.000000</td>\n",
       "      <td>1.0</td>\n",
       "    </tr>\n",
       "    <tr>\n",
       "      <th>max</th>\n",
       "      <td>17.000000</td>\n",
       "      <td>199.000000</td>\n",
       "      <td>114.000000</td>\n",
       "      <td>99.000000</td>\n",
       "      <td>846.000000</td>\n",
       "      <td>67.100000</td>\n",
       "      <td>2.420000</td>\n",
       "      <td>70.000000</td>\n",
       "      <td>1.0</td>\n",
       "    </tr>\n",
       "  </tbody>\n",
       "</table>\n",
       "</div>"
      ],
      "text/plain": [
       "       Pregnancies     Glucose  BloodPressure  SkinThickness     Insulin  \\\n",
       "count   268.000000  268.000000     268.000000     268.000000  268.000000   \n",
       "mean      4.865672  141.257463      70.824627      22.164179  100.335821   \n",
       "std       3.741239   31.939622      21.491812      17.679711  138.689125   \n",
       "min       0.000000    0.000000       0.000000       0.000000    0.000000   \n",
       "25%       1.750000  119.000000      66.000000       0.000000    0.000000   \n",
       "50%       4.000000  140.000000      74.000000      27.000000    0.000000   \n",
       "75%       8.000000  167.000000      82.000000      36.000000  167.250000   \n",
       "max      17.000000  199.000000     114.000000      99.000000  846.000000   \n",
       "\n",
       "              BMI  DiabetesPedigreeFunction         Age  Outcome  \n",
       "count  268.000000                268.000000  268.000000    268.0  \n",
       "mean    35.142537                  0.550500   37.067164      1.0  \n",
       "std      7.262967                  0.372354   10.968254      0.0  \n",
       "min      0.000000                  0.088000   21.000000      1.0  \n",
       "25%     30.800000                  0.262500   28.000000      1.0  \n",
       "50%     34.250000                  0.449000   36.000000      1.0  \n",
       "75%     38.775000                  0.728000   44.000000      1.0  \n",
       "max     67.100000                  2.420000   70.000000      1.0  "
      ]
     },
     "execution_count": 25,
     "metadata": {},
     "output_type": "execute_result"
    }
   ],
   "source": [
    "#Summary Statistics of All Data\n",
    "sum_stat_outcomeTrue = pd.DataFrame(raw_df_outcomeTrue.describe())\n",
    "sum_stat_outcomeTrue"
   ]
  },
  {
   "cell_type": "markdown",
   "id": "d99127ae",
   "metadata": {},
   "source": [
    "## Summary Statistics of Instances where Outcome = 0"
   ]
  },
  {
   "cell_type": "code",
   "execution_count": 26,
   "id": "945ca21c",
   "metadata": {
    "scrolled": false
   },
   "outputs": [
    {
     "data": {
      "text/html": [
       "<div>\n",
       "<style scoped>\n",
       "    .dataframe tbody tr th:only-of-type {\n",
       "        vertical-align: middle;\n",
       "    }\n",
       "\n",
       "    .dataframe tbody tr th {\n",
       "        vertical-align: top;\n",
       "    }\n",
       "\n",
       "    .dataframe thead th {\n",
       "        text-align: right;\n",
       "    }\n",
       "</style>\n",
       "<table border=\"1\" class=\"dataframe\">\n",
       "  <thead>\n",
       "    <tr style=\"text-align: right;\">\n",
       "      <th></th>\n",
       "      <th>Pregnancies</th>\n",
       "      <th>Glucose</th>\n",
       "      <th>BloodPressure</th>\n",
       "      <th>SkinThickness</th>\n",
       "      <th>Insulin</th>\n",
       "      <th>BMI</th>\n",
       "      <th>DiabetesPedigreeFunction</th>\n",
       "      <th>Age</th>\n",
       "      <th>Outcome</th>\n",
       "    </tr>\n",
       "  </thead>\n",
       "  <tbody>\n",
       "    <tr>\n",
       "      <th>count</th>\n",
       "      <td>500.000000</td>\n",
       "      <td>500.0000</td>\n",
       "      <td>500.000000</td>\n",
       "      <td>500.000000</td>\n",
       "      <td>500.000000</td>\n",
       "      <td>500.000000</td>\n",
       "      <td>500.000000</td>\n",
       "      <td>500.000000</td>\n",
       "      <td>500.0</td>\n",
       "    </tr>\n",
       "    <tr>\n",
       "      <th>mean</th>\n",
       "      <td>3.298000</td>\n",
       "      <td>109.9800</td>\n",
       "      <td>68.184000</td>\n",
       "      <td>19.664000</td>\n",
       "      <td>68.792000</td>\n",
       "      <td>30.304200</td>\n",
       "      <td>0.429734</td>\n",
       "      <td>31.190000</td>\n",
       "      <td>0.0</td>\n",
       "    </tr>\n",
       "    <tr>\n",
       "      <th>std</th>\n",
       "      <td>3.017185</td>\n",
       "      <td>26.1412</td>\n",
       "      <td>18.063075</td>\n",
       "      <td>14.889947</td>\n",
       "      <td>98.865289</td>\n",
       "      <td>7.689855</td>\n",
       "      <td>0.299085</td>\n",
       "      <td>11.667655</td>\n",
       "      <td>0.0</td>\n",
       "    </tr>\n",
       "    <tr>\n",
       "      <th>min</th>\n",
       "      <td>0.000000</td>\n",
       "      <td>0.0000</td>\n",
       "      <td>0.000000</td>\n",
       "      <td>0.000000</td>\n",
       "      <td>0.000000</td>\n",
       "      <td>0.000000</td>\n",
       "      <td>0.078000</td>\n",
       "      <td>21.000000</td>\n",
       "      <td>0.0</td>\n",
       "    </tr>\n",
       "    <tr>\n",
       "      <th>25%</th>\n",
       "      <td>1.000000</td>\n",
       "      <td>93.0000</td>\n",
       "      <td>62.000000</td>\n",
       "      <td>0.000000</td>\n",
       "      <td>0.000000</td>\n",
       "      <td>25.400000</td>\n",
       "      <td>0.229750</td>\n",
       "      <td>23.000000</td>\n",
       "      <td>0.0</td>\n",
       "    </tr>\n",
       "    <tr>\n",
       "      <th>50%</th>\n",
       "      <td>2.000000</td>\n",
       "      <td>107.0000</td>\n",
       "      <td>70.000000</td>\n",
       "      <td>21.000000</td>\n",
       "      <td>39.000000</td>\n",
       "      <td>30.050000</td>\n",
       "      <td>0.336000</td>\n",
       "      <td>27.000000</td>\n",
       "      <td>0.0</td>\n",
       "    </tr>\n",
       "    <tr>\n",
       "      <th>75%</th>\n",
       "      <td>5.000000</td>\n",
       "      <td>125.0000</td>\n",
       "      <td>78.000000</td>\n",
       "      <td>31.000000</td>\n",
       "      <td>105.000000</td>\n",
       "      <td>35.300000</td>\n",
       "      <td>0.561750</td>\n",
       "      <td>37.000000</td>\n",
       "      <td>0.0</td>\n",
       "    </tr>\n",
       "    <tr>\n",
       "      <th>max</th>\n",
       "      <td>13.000000</td>\n",
       "      <td>197.0000</td>\n",
       "      <td>122.000000</td>\n",
       "      <td>60.000000</td>\n",
       "      <td>744.000000</td>\n",
       "      <td>57.300000</td>\n",
       "      <td>2.329000</td>\n",
       "      <td>81.000000</td>\n",
       "      <td>0.0</td>\n",
       "    </tr>\n",
       "  </tbody>\n",
       "</table>\n",
       "</div>"
      ],
      "text/plain": [
       "       Pregnancies   Glucose  BloodPressure  SkinThickness     Insulin  \\\n",
       "count   500.000000  500.0000     500.000000     500.000000  500.000000   \n",
       "mean      3.298000  109.9800      68.184000      19.664000   68.792000   \n",
       "std       3.017185   26.1412      18.063075      14.889947   98.865289   \n",
       "min       0.000000    0.0000       0.000000       0.000000    0.000000   \n",
       "25%       1.000000   93.0000      62.000000       0.000000    0.000000   \n",
       "50%       2.000000  107.0000      70.000000      21.000000   39.000000   \n",
       "75%       5.000000  125.0000      78.000000      31.000000  105.000000   \n",
       "max      13.000000  197.0000     122.000000      60.000000  744.000000   \n",
       "\n",
       "              BMI  DiabetesPedigreeFunction         Age  Outcome  \n",
       "count  500.000000                500.000000  500.000000    500.0  \n",
       "mean    30.304200                  0.429734   31.190000      0.0  \n",
       "std      7.689855                  0.299085   11.667655      0.0  \n",
       "min      0.000000                  0.078000   21.000000      0.0  \n",
       "25%     25.400000                  0.229750   23.000000      0.0  \n",
       "50%     30.050000                  0.336000   27.000000      0.0  \n",
       "75%     35.300000                  0.561750   37.000000      0.0  \n",
       "max     57.300000                  2.329000   81.000000      0.0  "
      ]
     },
     "execution_count": 26,
     "metadata": {},
     "output_type": "execute_result"
    }
   ],
   "source": [
    "#Summary Statistics of All Data\n",
    "sum_stat_outcomeFalse = pd.DataFrame(raw_df_outcomeFalse.describe())\n",
    "sum_stat_outcomeFalse"
   ]
  },
  {
   "cell_type": "markdown",
   "id": "f85ca7db",
   "metadata": {},
   "source": [
    "## Visualizing Summary Statistics"
   ]
  },
  {
   "cell_type": "code",
   "execution_count": 27,
   "id": "41f3c953",
   "metadata": {},
   "outputs": [
    {
     "ename": "SyntaxError",
     "evalue": "invalid syntax (2857894058.py, line 4)",
     "output_type": "error",
     "traceback": [
      "\u001b[0;36m  File \u001b[0;32m\"/var/folders/x6/m1pn8n_x0_77zgh2x7003htc0000gn/T/ipykernel_251/2857894058.py\"\u001b[0;36m, line \u001b[0;32m4\u001b[0m\n\u001b[0;31m    mean_outcomeTrue = list(sum_stat_outco/////meTrue.loc[\"mean\"])\u001b[0m\n\u001b[0m                                            ^\u001b[0m\n\u001b[0;31mSyntaxError\u001b[0m\u001b[0;31m:\u001b[0m invalid syntax\n"
     ]
    }
   ],
   "source": [
    "#Means of the dataset\n",
    "columns = raw_df.columns\n",
    "mean_all = list(sum_stat_all.loc[\"mean\"])\n",
    "mean_outcomeTrue = list(sum_stat_outco/////meTrue.loc[\"mean\"])\n",
    "mean_outcomeFalse = list(sum_stat_outcomeFalse.loc[\"mean\"])\n",
    "\n",
    "#References\n",
    "# raw_data\n",
    "# raw_data_outcomeTrue\n",
    "# raw_data_outcomeFalse\n",
    "# plot_title"
   ]
  },
  {
   "cell_type": "code",
   "execution_count": null,
   "id": "ee5396d1",
   "metadata": {},
   "outputs": [],
   "source": [
    "# Create Boxplots\n",
    "plt.figure(figsize=(15, 10))\n",
    "\n",
    "for i in range(len(plot_title)):\n",
    "    #Plot Layout\n",
    "    plt.subplot(3, 3, i+1)  \n",
    "    plt.subplots_adjust(hspace=0.4)\n",
    "    \n",
    "    #Boxplots\n",
    "    plt.boxplot(raw_df[columns[i]], positions=[1], labels=[\"All\"])\n",
    "    plt.boxplot(raw_df_outcomeTrue[columns[i]], positions=[2], labels=[\"Outcome1\"])\n",
    "    plt.boxplot(raw_df_outcomeFalse[columns[i]], positions=[3], labels=[\"Outcome0\"])\n",
    "\n",
    "    # Mean lines\n",
    "    plt.axhline((mean_all[i]), color='lightsteelblue', linestyle='dashed', linewidth=1, label='All Data Mean Line')\n",
    "    plt.axhline((mean_outcomeTrue[i]), color='tomato', linestyle='dashed', linewidth=1.5, label='Outcome = 1 Mean Line')\n",
    "    plt.axhline((mean_outcomeFalse[i]), color='goldenrod', linestyle='dashed', linewidth=1, label='Outcome = 0 Mean Line')\n",
    "    \n",
    "    #Labels\n",
    "    plt.ylabel('Pregnancies')\n",
    "    plt.title('Boxplots for ' + plot_title[i])\n",
    "plt.legend()\n",
    "plt.show()\n",
    "\n",
    "#Mean of all Features\n",
    "means = pd.DataFrame((mean_all, mean_outcomeTrue, mean_outcomeFalse, (np.array(mean_outcomeTrue)/np.array(mean_outcomeFalse))))\n",
    "means.columns = columns\n",
    "means = means.set_index(pd.Index([\"All\", \"Outcome1\", \"Outcome0\", \"Outcome1:Outcome0\"]))\n",
    "means"
   ]
  },
  {
   "cell_type": "markdown",
   "id": "d57f29a3",
   "metadata": {},
   "source": [
    "Based on the boxplots and the dataframe above, it is clear that all instances in the dataset where Outcome = 1 have a higher mean compared to the means of all data set and the instances where Outcome = 0.\n",
    "\n"
   ]
  },
  {
   "cell_type": "markdown",
   "id": "8721f272",
   "metadata": {},
   "source": [
    " "
   ]
  },
  {
   "cell_type": "markdown",
   "id": "29a9ddd5",
   "metadata": {},
   "source": [
    "# Part II : Preprocessing & Feature Engineering"
   ]
  },
  {
   "cell_type": "markdown",
   "id": "0efa25cc",
   "metadata": {},
   "source": [
    "You need to perform preprocessing on the given dataset. Please consider the following tasks and carry out the necessary steps accordingly.\n",
    "- Handling missing values\n",
    "- Handling outliers\n",
    "- Scaling and normalization\n",
    "- Feature Engineering\n",
    "- Handling imbalanced data"
   ]
  },
  {
   "cell_type": "markdown",
   "id": "16470dd4",
   "metadata": {},
   "source": [
    "## Feature Selection"
   ]
  },
  {
   "cell_type": "code",
   "execution_count": 122,
   "id": "79ffb7fe",
   "metadata": {},
   "outputs": [],
   "source": [
    "df = raw_df.copy()"
   ]
  },
  {
   "cell_type": "code",
   "execution_count": 123,
   "id": "551dc255",
   "metadata": {},
   "outputs": [],
   "source": [
    "#Dividing dataset into two\n",
    "df_outcomeTrue = df[df[\"Outcome\"] == 1]\n",
    "df_outcomeFalse = df[df[\"Outcome\"] == 0]"
   ]
  },
  {
   "cell_type": "code",
   "execution_count": 124,
   "id": "f760ded3",
   "metadata": {},
   "outputs": [
    {
     "name": "stderr",
     "output_type": "stream",
     "text": [
      "/var/folders/x6/m1pn8n_x0_77zgh2x7003htc0000gn/T/ipykernel_251/1845270539.py:13: RuntimeWarning: divide by zero encountered in true_divide\n",
      "  means = pd.DataFrame((mean_all, mean_outcomeTrue, mean_outcomeFalse, (np.array(mean_outcomeTrue)/np.array(mean_outcomeFalse))))\n"
     ]
    },
    {
     "data": {
      "text/html": [
       "<div>\n",
       "<style scoped>\n",
       "    .dataframe tbody tr th:only-of-type {\n",
       "        vertical-align: middle;\n",
       "    }\n",
       "\n",
       "    .dataframe tbody tr th {\n",
       "        vertical-align: top;\n",
       "    }\n",
       "\n",
       "    .dataframe thead th {\n",
       "        text-align: right;\n",
       "    }\n",
       "</style>\n",
       "<table border=\"1\" class=\"dataframe\">\n",
       "  <thead>\n",
       "    <tr style=\"text-align: right;\">\n",
       "      <th></th>\n",
       "      <th>Pregnancies</th>\n",
       "      <th>Glucose</th>\n",
       "      <th>BloodPressure</th>\n",
       "      <th>SkinThickness</th>\n",
       "      <th>Insulin</th>\n",
       "      <th>BMI</th>\n",
       "      <th>DiabetesPedigreeFunction</th>\n",
       "      <th>Age</th>\n",
       "      <th>Outcome</th>\n",
       "    </tr>\n",
       "  </thead>\n",
       "  <tbody>\n",
       "    <tr>\n",
       "      <th>All</th>\n",
       "      <td>3.845052</td>\n",
       "      <td>120.894531</td>\n",
       "      <td>69.105469</td>\n",
       "      <td>20.536458</td>\n",
       "      <td>79.799479</td>\n",
       "      <td>31.992578</td>\n",
       "      <td>0.471876</td>\n",
       "      <td>33.240885</td>\n",
       "      <td>0.348958</td>\n",
       "    </tr>\n",
       "    <tr>\n",
       "      <th>Outcome1</th>\n",
       "      <td>4.865672</td>\n",
       "      <td>141.257463</td>\n",
       "      <td>70.824627</td>\n",
       "      <td>22.164179</td>\n",
       "      <td>100.335821</td>\n",
       "      <td>35.142537</td>\n",
       "      <td>0.550500</td>\n",
       "      <td>37.067164</td>\n",
       "      <td>1.000000</td>\n",
       "    </tr>\n",
       "    <tr>\n",
       "      <th>Outcome0</th>\n",
       "      <td>3.298000</td>\n",
       "      <td>109.980000</td>\n",
       "      <td>68.184000</td>\n",
       "      <td>19.664000</td>\n",
       "      <td>68.792000</td>\n",
       "      <td>30.304200</td>\n",
       "      <td>0.429734</td>\n",
       "      <td>31.190000</td>\n",
       "      <td>0.000000</td>\n",
       "    </tr>\n",
       "    <tr>\n",
       "      <th>Outcome1:Outcome0</th>\n",
       "      <td>1.475340</td>\n",
       "      <td>1.284392</td>\n",
       "      <td>1.038728</td>\n",
       "      <td>1.127145</td>\n",
       "      <td>1.458539</td>\n",
       "      <td>1.159659</td>\n",
       "      <td>1.281025</td>\n",
       "      <td>1.188431</td>\n",
       "      <td>inf</td>\n",
       "    </tr>\n",
       "  </tbody>\n",
       "</table>\n",
       "</div>"
      ],
      "text/plain": [
       "                   Pregnancies     Glucose  BloodPressure  SkinThickness  \\\n",
       "All                   3.845052  120.894531      69.105469      20.536458   \n",
       "Outcome1              4.865672  141.257463      70.824627      22.164179   \n",
       "Outcome0              3.298000  109.980000      68.184000      19.664000   \n",
       "Outcome1:Outcome0     1.475340    1.284392       1.038728       1.127145   \n",
       "\n",
       "                      Insulin        BMI  DiabetesPedigreeFunction        Age  \\\n",
       "All                 79.799479  31.992578                  0.471876  33.240885   \n",
       "Outcome1           100.335821  35.142537                  0.550500  37.067164   \n",
       "Outcome0            68.792000  30.304200                  0.429734  31.190000   \n",
       "Outcome1:Outcome0    1.458539   1.159659                  1.281025   1.188431   \n",
       "\n",
       "                    Outcome  \n",
       "All                0.348958  \n",
       "Outcome1           1.000000  \n",
       "Outcome0           0.000000  \n",
       "Outcome1:Outcome0       inf  "
      ]
     },
     "execution_count": 124,
     "metadata": {},
     "output_type": "execute_result"
    }
   ],
   "source": [
    "#Summary Statistics of All Data\n",
    "sum_stat_all = pd.DataFrame(df.describe())\n",
    "sum_stat_outcomeTrue = pd.DataFrame(df_outcomeTrue.describe())\n",
    "sum_stat_outcomeFalse = pd.DataFrame(df_outcomeFalse.describe())\n",
    "\n",
    "#Means\n",
    "mean_all = list(sum_stat_all.loc[\"mean\"])\n",
    "mean_outcomeTrue = list(sum_stat_outcomeTrue.loc[\"mean\"])\n",
    "mean_outcomeFalse = list(sum_stat_outcomeFalse.loc[\"mean\"])\n",
    "\n",
    "\n",
    "#Means of all Features\n",
    "means = pd.DataFrame((mean_all, mean_outcomeTrue, mean_outcomeFalse, (np.array(mean_outcomeTrue)/np.array(mean_outcomeFalse))))\n",
    "means.columns = raw_df.columns\n",
    "means = means.set_index(pd.Index([\"All\", \"Outcome1\", \"Outcome0\", \"Outcome1:Outcome0\"]))\n",
    "means"
   ]
  },
  {
   "cell_type": "markdown",
   "id": "f675acd8",
   "metadata": {},
   "source": [
    "Based on the Outcome1 to Outcome0 ratio, the features which have means that significantly differs are the following:\n",
    "\n",
    "\n",
    "    Significant (Outcome1:Outcome0 mean ratio > 20%) \n",
    "    - Pregnancies\n",
    "    - Glucose\n",
    "    - Insulin\n",
    "    - Diabetes Pedigree Function\n",
    "    \n",
    "    \n",
    "    Somewhat significant (Outcome1:Outcome0 mean ratio > 10%) \n",
    "    - Skin Thickness\n",
    "    - BMI\n",
    "    - Age"
   ]
  },
  {
   "cell_type": "markdown",
   "id": "540d2c4d",
   "metadata": {},
   "source": [
    "## Replacing Zero Values with the Mean of the Column"
   ]
  },
  {
   "cell_type": "markdown",
   "id": "d6ec582b",
   "metadata": {},
   "source": [
    "Blood Pressure and Skin Thickness are features that are most likely does not have a zero value. The zero values will be replaced by the mean of which group (Outcome = 1 or Outcome = 0) the zero value belongs.\n",
    "\n",
    "Pregnancies on the other hand can have zero values as not all individuals can get or have been pregnant."
   ]
  },
  {
   "cell_type": "code",
   "execution_count": 125,
   "id": "abfbb692",
   "metadata": {},
   "outputs": [
    {
     "name": "stderr",
     "output_type": "stream",
     "text": [
      "/var/folders/x6/m1pn8n_x0_77zgh2x7003htc0000gn/T/ipykernel_251/2062941160.py:11: SettingWithCopyWarning: \n",
      "A value is trying to be set on a copy of a slice from a DataFrame\n",
      "\n",
      "See the caveats in the documentation: https://pandas.pydata.org/pandas-docs/stable/user_guide/indexing.html#returning-a-view-versus-a-copy\n",
      "  df[\"SkinThickness\"][instance] = means[\"SkinThickness\"][1]\n",
      "/var/folders/x6/m1pn8n_x0_77zgh2x7003htc0000gn/T/ipykernel_251/2062941160.py:4: SettingWithCopyWarning: \n",
      "A value is trying to be set on a copy of a slice from a DataFrame\n",
      "\n",
      "See the caveats in the documentation: https://pandas.pydata.org/pandas-docs/stable/user_guide/indexing.html#returning-a-view-versus-a-copy\n",
      "  df[\"BloodPressure\"][instance] = means[\"BloodPressure\"][2]\n"
     ]
    }
   ],
   "source": [
    "for instance in range(len(df[\"Outcome\"])):\n",
    "    if(df[\"BloodPressure\"][instance] == 0):\n",
    "        if(df[\"Outcome\"][instance] == 0):\n",
    "            df[\"BloodPressure\"][instance] = means[\"BloodPressure\"][2]\n",
    "        elif(df[\"Outcome\"][instance] == 1):\n",
    "            df[\"BloodPressure\"][instance] = means[\"BloodPressure\"][1]\n",
    "    elif(df[\"SkinThickness\"][instance] == 0):\n",
    "        if(df[\"Outcome\"][instance] == 0):\n",
    "            df[\"SkinThickness\"][instance] = means[\"SkinThickness\"][2]\n",
    "        elif(df[\"Outcome\"][instance] == 1):\n",
    "            df[\"SkinThickness\"][instance] = means[\"SkinThickness\"][1]"
   ]
  },
  {
   "cell_type": "code",
   "execution_count": 214,
   "id": "e87c6e9d",
   "metadata": {
    "scrolled": false
   },
   "outputs": [
    {
     "data": {
      "image/png": "[encoded data removed]",
      "text/plain": [
       "<Figure size 1500x1000 with 8 Axes>"
      ]
     },
     "metadata": {},
     "output_type": "display_data"
    }
   ],
   "source": [
    "make_hist(df, colour=\"lightsteelblue\")"
   ]
  },
  {
   "cell_type": "markdown",
   "id": "edeed430",
   "metadata": {},
   "source": [
    "The majority of data are skewed to the right"
   ]
  },
  {
   "cell_type": "code",
   "execution_count": 274,
   "id": "862786d2",
   "metadata": {},
   "outputs": [],
   "source": [
    "pregnants = df[df[\"Pregnancies\"] > 0]\n",
    "npregnants = df[df[\"Pregnancies\"] == 0]\n",
    "pregnants3 = df[df[\"Pregnancies\"] > 3]\n",
    "npregnants3 = df[df[\"Pregnancies\"] <= 3]"
   ]
  },
  {
   "cell_type": "code",
   "execution_count": 275,
   "id": "91cccd61",
   "metadata": {},
   "outputs": [],
   "source": [
    "Tpregnants = pregnants[pregnants[\"Outcome\"] == 1]\n",
    "Fpregnants = pregnants[pregnants[\"Outcome\"] == 0]\n",
    "Tnpregnants = npregnants[npregnants[\"Outcome\"] == 1]\n",
    "Fnpregnants = npregnants[npregnants[\"Outcome\"] == 0]\n",
    "\n",
    "Tpregnants3 = pregnants3[pregnants3[\"Outcome\"] == 1]\n",
    "Fpregnants3 = pregnants3[pregnants3[\"Outcome\"] == 0]\n",
    "Tnpregnants3 = npregnants3[npregnants3[\"Outcome\"] == 1]\n",
    "Fnpregnants3 = npregnants3[npregnants3[\"Outcome\"] == 0]"
   ]
  },
  {
   "cell_type": "code",
   "execution_count": 276,
   "id": "0886a82b",
   "metadata": {},
   "outputs": [
    {
     "data": {
      "image/png": "[encoded data removed]",
      "text/plain": [
       "<Figure size 300x300 with 1 Axes>"
      ]
     },
     "metadata": {},
     "output_type": "display_data"
    },
    {
     "data": {
      "image/png": "[encoded data removed]",
      "text/plain": [
       "<Figure size 300x300 with 1 Axes>"
      ]
     },
     "metadata": {},
     "output_type": "display_data"
    }
   ],
   "source": [
    "categories = [\"Pregnant\", \"Not Pregnant\"]\n",
    "values1 = [len(Fpregnants), len(Fnpregnants)]\n",
    "values2 = [len(Tpregnants), len(Tnpregnants)]\n",
    "\n",
    "plt.figure(figsize=(3,3))\n",
    "plt.pie((len(Tpregnants), len(Fpregnants)), \n",
    "        labels=(\"Outcome = 1\", \"Outcome = 0\"),autopct='%1.1f%%')\n",
    "plt.title(\"Pregnant\")\n",
    "\n",
    "plt.figure(figsize=(3,3))\n",
    "plt.pie((len(Tnpregnants), len(Fnpregnants)), \n",
    "        labels=(\"Outcome = 1\", \"Outcome = 0\"),autopct='%1.1f%%')\n",
    "plt.title(\"Not Pregnant\")\n",
    "plt.show()\n",
    "\n",
    "plt.show()"
   ]
  },
  {
   "cell_type": "code",
   "execution_count": 277,
   "id": "b926ff0e",
   "metadata": {},
   "outputs": [
    {
     "data": {
      "image/png": "[encoded data removed]",
      "text/plain": [
       "<Figure size 300x300 with 1 Axes>"
      ]
     },
     "metadata": {},
     "output_type": "display_data"
    },
    {
     "data": {
      "image/png": "[encoded data removed]",
      "text/plain": [
       "<Figure size 300x300 with 1 Axes>"
      ]
     },
     "metadata": {},
     "output_type": "display_data"
    }
   ],
   "source": [
    "categories = [\"Pregnant\", \"Not Pregnant\"]\n",
    "values1 = [len(Fpregnants3), len(Fnpregnants3)]\n",
    "values2 = [len(Tpregnants3), len(Tnpregnants3)]\n",
    "\n",
    "plt.figure(figsize=(3,3))\n",
    "plt.pie((len(Tpregnants3), len(Fpregnants3)), \n",
    "        labels=(\"Outcome = 1\", \"Outcome = 0\"),autopct='%1.1f%%')\n",
    "plt.title(\"Pregnancies > 3 Times\")\n",
    "\n",
    "plt.figure(figsize=(3,3))\n",
    "plt.pie((len(Tnpregnants3), len(Fnpregnants3)), \n",
    "        labels=(\"Outcome = 1\", \"Outcome = 0\"),autopct='%1.1f%%')\n",
    "plt.title(\"Pregnancies <= 3\")\n",
    "plt.show()\n",
    "\n",
    "plt.show()"
   ]
  },
  {
   "cell_type": "markdown",
   "id": "bf3b9699",
   "metadata": {},
   "source": [
    "### Selecting all Significant Features Only >20%"
   ]
  },
  {
   "cell_type": "code",
   "execution_count": 259,
   "id": "cc31452c",
   "metadata": {},
   "outputs": [],
   "source": [
    "df = df_backup.copy()"
   ]
  },
  {
   "cell_type": "code",
   "execution_count": 128,
   "id": "02be3734",
   "metadata": {},
   "outputs": [],
   "source": [
    "columns_todrop = [\"BloodPressure\", \"SkinThickness\", \"BMI\"]"
   ]
  },
  {
   "cell_type": "code",
   "execution_count": 129,
   "id": "72bef83e",
   "metadata": {},
   "outputs": [],
   "source": [
    "df.drop(columns=columns_todrop, inplace=True)"
   ]
  },
  {
   "cell_type": "code",
   "execution_count": 130,
   "id": "d720d289",
   "metadata": {},
   "outputs": [
    {
     "data": {
      "text/html": [
       "<div>\n",
       "<style scoped>\n",
       "    .dataframe tbody tr th:only-of-type {\n",
       "        vertical-align: middle;\n",
       "    }\n",
       "\n",
       "    .dataframe tbody tr th {\n",
       "        vertical-align: top;\n",
       "    }\n",
       "\n",
       "    .dataframe thead th {\n",
       "        text-align: right;\n",
       "    }\n",
       "</style>\n",
       "<table border=\"1\" class=\"dataframe\">\n",
       "  <thead>\n",
       "    <tr style=\"text-align: right;\">\n",
       "      <th></th>\n",
       "      <th>Pregnancies</th>\n",
       "      <th>Glucose</th>\n",
       "      <th>Insulin</th>\n",
       "      <th>DiabetesPedigreeFunction</th>\n",
       "      <th>Age</th>\n",
       "      <th>Outcome</th>\n",
       "    </tr>\n",
       "  </thead>\n",
       "  <tbody>\n",
       "    <tr>\n",
       "      <th>0</th>\n",
       "      <td>6</td>\n",
       "      <td>148</td>\n",
       "      <td>0</td>\n",
       "      <td>0.627</td>\n",
       "      <td>50</td>\n",
       "      <td>1</td>\n",
       "    </tr>\n",
       "    <tr>\n",
       "      <th>1</th>\n",
       "      <td>1</td>\n",
       "      <td>85</td>\n",
       "      <td>0</td>\n",
       "      <td>0.351</td>\n",
       "      <td>31</td>\n",
       "      <td>0</td>\n",
       "    </tr>\n",
       "    <tr>\n",
       "      <th>2</th>\n",
       "      <td>8</td>\n",
       "      <td>183</td>\n",
       "      <td>0</td>\n",
       "      <td>0.672</td>\n",
       "      <td>32</td>\n",
       "      <td>1</td>\n",
       "    </tr>\n",
       "    <tr>\n",
       "      <th>3</th>\n",
       "      <td>1</td>\n",
       "      <td>89</td>\n",
       "      <td>94</td>\n",
       "      <td>0.167</td>\n",
       "      <td>21</td>\n",
       "      <td>0</td>\n",
       "    </tr>\n",
       "    <tr>\n",
       "      <th>4</th>\n",
       "      <td>0</td>\n",
       "      <td>137</td>\n",
       "      <td>168</td>\n",
       "      <td>2.288</td>\n",
       "      <td>33</td>\n",
       "      <td>1</td>\n",
       "    </tr>\n",
       "  </tbody>\n",
       "</table>\n",
       "</div>"
      ],
      "text/plain": [
       "   Pregnancies  Glucose  Insulin  DiabetesPedigreeFunction  Age  Outcome\n",
       "0            6      148        0                     0.627   50        1\n",
       "1            1       85        0                     0.351   31        0\n",
       "2            8      183        0                     0.672   32        1\n",
       "3            1       89       94                     0.167   21        0\n",
       "4            0      137      168                     2.288   33        1"
      ]
     },
     "execution_count": 130,
     "metadata": {},
     "output_type": "execute_result"
    }
   ],
   "source": [
    "df.head()"
   ]
  },
  {
   "cell_type": "markdown",
   "id": "61e5c7b3",
   "metadata": {},
   "source": [
    "### Selecting Significant and Somewhat Significant Features >10%"
   ]
  },
  {
   "cell_type": "code",
   "execution_count": 169,
   "id": "ea7eb1c7",
   "metadata": {},
   "outputs": [],
   "source": [
    "df = df_backup.copy()"
   ]
  },
  {
   "cell_type": "code",
   "execution_count": 170,
   "id": "e44bb29c",
   "metadata": {},
   "outputs": [],
   "source": [
    "columns_todrop = [\"BloodPressure\"]"
   ]
  },
  {
   "cell_type": "code",
   "execution_count": 171,
   "id": "0a40a1af",
   "metadata": {},
   "outputs": [],
   "source": [
    "df.drop(columns=columns_todrop, inplace=True)"
   ]
  },
  {
   "cell_type": "code",
   "execution_count": 172,
   "id": "0a8dcc74",
   "metadata": {},
   "outputs": [
    {
     "data": {
      "text/html": [
       "<div>\n",
       "<style scoped>\n",
       "    .dataframe tbody tr th:only-of-type {\n",
       "        vertical-align: middle;\n",
       "    }\n",
       "\n",
       "    .dataframe tbody tr th {\n",
       "        vertical-align: top;\n",
       "    }\n",
       "\n",
       "    .dataframe thead th {\n",
       "        text-align: right;\n",
       "    }\n",
       "</style>\n",
       "<table border=\"1\" class=\"dataframe\">\n",
       "  <thead>\n",
       "    <tr style=\"text-align: right;\">\n",
       "      <th></th>\n",
       "      <th>Pregnancies</th>\n",
       "      <th>Glucose</th>\n",
       "      <th>SkinThickness</th>\n",
       "      <th>Insulin</th>\n",
       "      <th>BMI</th>\n",
       "      <th>DiabetesPedigreeFunction</th>\n",
       "      <th>Age</th>\n",
       "      <th>Outcome</th>\n",
       "    </tr>\n",
       "  </thead>\n",
       "  <tbody>\n",
       "    <tr>\n",
       "      <th>0</th>\n",
       "      <td>6</td>\n",
       "      <td>148</td>\n",
       "      <td>35.000000</td>\n",
       "      <td>0</td>\n",
       "      <td>33.6</td>\n",
       "      <td>0.627</td>\n",
       "      <td>50</td>\n",
       "      <td>1</td>\n",
       "    </tr>\n",
       "    <tr>\n",
       "      <th>1</th>\n",
       "      <td>1</td>\n",
       "      <td>85</td>\n",
       "      <td>29.000000</td>\n",
       "      <td>0</td>\n",
       "      <td>26.6</td>\n",
       "      <td>0.351</td>\n",
       "      <td>31</td>\n",
       "      <td>0</td>\n",
       "    </tr>\n",
       "    <tr>\n",
       "      <th>2</th>\n",
       "      <td>8</td>\n",
       "      <td>183</td>\n",
       "      <td>22.164179</td>\n",
       "      <td>0</td>\n",
       "      <td>23.3</td>\n",
       "      <td>0.672</td>\n",
       "      <td>32</td>\n",
       "      <td>1</td>\n",
       "    </tr>\n",
       "    <tr>\n",
       "      <th>3</th>\n",
       "      <td>1</td>\n",
       "      <td>89</td>\n",
       "      <td>23.000000</td>\n",
       "      <td>94</td>\n",
       "      <td>28.1</td>\n",
       "      <td>0.167</td>\n",
       "      <td>21</td>\n",
       "      <td>0</td>\n",
       "    </tr>\n",
       "    <tr>\n",
       "      <th>4</th>\n",
       "      <td>0</td>\n",
       "      <td>137</td>\n",
       "      <td>35.000000</td>\n",
       "      <td>168</td>\n",
       "      <td>43.1</td>\n",
       "      <td>2.288</td>\n",
       "      <td>33</td>\n",
       "      <td>1</td>\n",
       "    </tr>\n",
       "  </tbody>\n",
       "</table>\n",
       "</div>"
      ],
      "text/plain": [
       "   Pregnancies  Glucose  SkinThickness  Insulin   BMI  \\\n",
       "0            6      148      35.000000        0  33.6   \n",
       "1            1       85      29.000000        0  26.6   \n",
       "2            8      183      22.164179        0  23.3   \n",
       "3            1       89      23.000000       94  28.1   \n",
       "4            0      137      35.000000      168  43.1   \n",
       "\n",
       "   DiabetesPedigreeFunction  Age  Outcome  \n",
       "0                     0.627   50        1  \n",
       "1                     0.351   31        0  \n",
       "2                     0.672   32        1  \n",
       "3                     0.167   21        0  \n",
       "4                     2.288   33        1  "
      ]
     },
     "execution_count": 172,
     "metadata": {},
     "output_type": "execute_result"
    }
   ],
   "source": [
    "df.head()"
   ]
  },
  {
   "cell_type": "markdown",
   "id": "97cf472e",
   "metadata": {},
   "source": [
    "There are two groups in which features can be selected. The first one are the features who have an Outcome1:Outcome0 mean ratio that is greater than 20% and the second group are those features who have an Outcome1:Outcome0 mean ratio that is greater than 10%."
   ]
  },
  {
   "cell_type": "markdown",
   "id": "c2d5638b",
   "metadata": {},
   "source": [
    "## Scaling the Data"
   ]
  },
  {
   "cell_type": "markdown",
   "id": "4e17869e",
   "metadata": {},
   "source": [
    "### Min-Max Scaler\n",
    "Min-Max Sxaler seems to work best with Logistic Regression Models"
   ]
  },
  {
   "cell_type": "code",
   "execution_count": 173,
   "id": "654a7da9",
   "metadata": {},
   "outputs": [],
   "source": [
    "from sklearn.preprocessing import MinMaxScaler"
   ]
  },
  {
   "cell_type": "code",
   "execution_count": 174,
   "id": "b0b4598c",
   "metadata": {},
   "outputs": [],
   "source": [
    "minmax_scaler = MinMaxScaler()\n",
    "minmax_data = minmax_scaler.fit_transform(df)"
   ]
  },
  {
   "cell_type": "markdown",
   "id": "986aff46",
   "metadata": {},
   "source": [
    " "
   ]
  },
  {
   "cell_type": "markdown",
   "id": "75b5e64e",
   "metadata": {},
   "source": [
    "## Train and Test Sets"
   ]
  },
  {
   "cell_type": "code",
   "execution_count": 175,
   "id": "89c5672c",
   "metadata": {},
   "outputs": [],
   "source": [
    "# !pip install imbalanced-learn"
   ]
  },
  {
   "cell_type": "code",
   "execution_count": 176,
   "id": "56c15520",
   "metadata": {},
   "outputs": [],
   "source": [
    "from sklearn.model_selection import train_test_split\n",
    "from sklearn.metrics import accuracy_score, classification_report, confusion_matrix\n",
    "from sklearn.model_selection import cross_val_score"
   ]
  },
  {
   "cell_type": "code",
   "execution_count": 177,
   "id": "3a6cb31f",
   "metadata": {},
   "outputs": [],
   "source": [
    "from imblearn.over_sampling import SMOTE\n",
    "from sklearn.utils.class_weight import compute_class_weight"
   ]
  },
  {
   "cell_type": "code",
   "execution_count": 178,
   "id": "7697825f",
   "metadata": {},
   "outputs": [],
   "source": [
    "# X = df[[\"Pregnancies\", \"Glucose\", \"Insulin\", \"DiabetesPedigreeFunction\", \"Age\"]]\n",
    "# y = df[\"Outcome\"]"
   ]
  },
  {
   "cell_type": "code",
   "execution_count": 180,
   "id": "8aaac6e2",
   "metadata": {},
   "outputs": [],
   "source": [
    "X = df[[\"Pregnancies\", \"Glucose\", \"Insulin\", \"DiabetesPedigreeFunction\", \"Age\", \"SkinThickness\", \"BMI\"]]\n",
    "y = df[\"Outcome\"]"
   ]
  },
  {
   "cell_type": "code",
   "execution_count": 181,
   "id": "531dbfea",
   "metadata": {},
   "outputs": [],
   "source": [
    "X_train, X_test, y_train, y_test = train_test_split(X, y, test_size=0.2, random_state=42)"
   ]
  },
  {
   "cell_type": "markdown",
   "id": "43fc4ae3",
   "metadata": {},
   "source": [
    " "
   ]
  },
  {
   "cell_type": "markdown",
   "id": "5702ddcf",
   "metadata": {},
   "source": [
    "# Part III : Training ML Model"
   ]
  },
  {
   "cell_type": "markdown",
   "id": "ecca0ccc",
   "metadata": {},
   "source": [
    "For this task, you are required to build a machine learning model to predict the outcome variable. This will be a binary classification task, as the target variable is binary. You should select at least two models, one of which should be an ensemble model, and compare their performance.\n",
    "\n",
    "- Train the models: Train the selected models on the training set.\n",
    "- Model evaluation: Evaluate the trained models on the testing set using appropriate evaluation metrics, such as accuracy, precision, recall, F1-score, and ROC-AUC.\n",
    "- Model comparison: Compare the performance of the selected models and choose the best-performing model based on the evaluation metrics. You can also perform additional analysis, such as model tuning and cross-validation, to improve the model's performance."
   ]
  },
  {
   "cell_type": "markdown",
   "id": "c326070c",
   "metadata": {},
   "source": [
    "#### Libraries for handling imbalance dataset"
   ]
  },
  {
   "cell_type": "code",
   "execution_count": 182,
   "id": "c798f643",
   "metadata": {},
   "outputs": [],
   "source": [
    "from sklearn.utils.class_weight import compute_class_weight\n",
    "from imblearn.over_sampling import SMOTE"
   ]
  },
  {
   "cell_type": "markdown",
   "id": "447cfe61",
   "metadata": {},
   "source": [
    "## Model 1: Logistic Regression as Benchmark"
   ]
  },
  {
   "cell_type": "code",
   "execution_count": 183,
   "id": "72745595",
   "metadata": {},
   "outputs": [],
   "source": [
    "from sklearn.linear_model import LogisticRegression"
   ]
  },
  {
   "cell_type": "code",
   "execution_count": 184,
   "id": "2629d359",
   "metadata": {},
   "outputs": [],
   "source": [
    "smote = SMOTE(sampling_strategy=1.0) #Only 1.0 works\n",
    "X_train_resampled, y_train_resampled = smote.fit_resample(X_train, y_train)"
   ]
  },
  {
   "cell_type": "code",
   "execution_count": 185,
   "id": "5249fd6a",
   "metadata": {},
   "outputs": [],
   "source": [
    "class_weights = compute_class_weight(\"balanced\", classes=np.unique(y_train), y=y_train)"
   ]
  },
  {
   "cell_type": "code",
   "execution_count": 186,
   "id": "361c69eb",
   "metadata": {},
   "outputs": [
    {
     "data": {
      "text/plain": [
       "LogisticRegression(class_weight={0: 0.7655860349127181, 1: 1.4413145539906103})"
      ]
     },
     "execution_count": 186,
     "metadata": {},
     "output_type": "execute_result"
    }
   ],
   "source": [
    "model = LogisticRegression(class_weight={0: class_weights[0], 1: class_weights[1]})\n",
    "model.fit(X_train_resampled, y_train_resampled)"
   ]
  },
  {
   "cell_type": "code",
   "execution_count": 187,
   "id": "b9b93055",
   "metadata": {},
   "outputs": [],
   "source": [
    "y_pred = model.predict(X_test)"
   ]
  },
  {
   "cell_type": "markdown",
   "id": "7e916481",
   "metadata": {},
   "source": [
    "#### Features with Outcome1:Outcome0 mean ratio of > 20%"
   ]
  },
  {
   "cell_type": "code",
   "execution_count": 145,
   "id": "59316f56",
   "metadata": {
    "scrolled": false
   },
   "outputs": [
    {
     "name": "stdout",
     "output_type": "stream",
     "text": [
      "Accuracy: 0.6753246753246753\n",
      "Confusion Matrix:\n",
      "[[53 46]\n",
      " [ 4 51]]\n",
      "Classification Report:\n",
      "              precision    recall  f1-score   support\n",
      "\n",
      "           0       0.93      0.54      0.68        99\n",
      "           1       0.53      0.93      0.67        55\n",
      "\n",
      "    accuracy                           0.68       154\n",
      "   macro avg       0.73      0.73      0.68       154\n",
      "weighted avg       0.79      0.68      0.68       154\n",
      "\n"
     ]
    }
   ],
   "source": [
    "print_metrics(y_test,y_pred)"
   ]
  },
  {
   "cell_type": "markdown",
   "id": "9db092f0",
   "metadata": {},
   "source": [
    "#### Features with Outcome1:Outcome0 mean ratio of > 10%"
   ]
  },
  {
   "cell_type": "code",
   "execution_count": 188,
   "id": "f93edff5",
   "metadata": {
    "scrolled": true
   },
   "outputs": [
    {
     "name": "stdout",
     "output_type": "stream",
     "text": [
      "Accuracy: 0.6428571428571429\n",
      "Confusion Matrix:\n",
      "[[51 48]\n",
      " [ 7 48]]\n",
      "Classification Report:\n",
      "              precision    recall  f1-score   support\n",
      "\n",
      "           0       0.88      0.52      0.65        99\n",
      "           1       0.50      0.87      0.64        55\n",
      "\n",
      "    accuracy                           0.64       154\n",
      "   macro avg       0.69      0.69      0.64       154\n",
      "weighted avg       0.74      0.64      0.64       154\n",
      "\n"
     ]
    }
   ],
   "source": [
    "print_metrics(y_test,y_pred)"
   ]
  },
  {
   "cell_type": "markdown",
   "id": "82020669",
   "metadata": {},
   "source": [
    " "
   ]
  },
  {
   "cell_type": "markdown",
   "id": "f7689371",
   "metadata": {},
   "source": [
    "## Model 2: Random Forest Classifier"
   ]
  },
  {
   "cell_type": "code",
   "execution_count": 189,
   "id": "3fba8fc8",
   "metadata": {},
   "outputs": [],
   "source": [
    "from sklearn.ensemble import RandomForestClassifier"
   ]
  },
  {
   "cell_type": "code",
   "execution_count": 190,
   "id": "8120232a",
   "metadata": {},
   "outputs": [],
   "source": [
    "smote = SMOTE(sampling_strategy=1) #Only 1.0 works\n",
    "X_train_resampled, y_train_resampled = smote.fit_resample(X_train, y_train)"
   ]
  },
  {
   "cell_type": "code",
   "execution_count": 191,
   "id": "faeb1754",
   "metadata": {},
   "outputs": [],
   "source": [
    "class_weights = compute_class_weight(\"balanced\", classes=np.unique(y_train), y=y_train)"
   ]
  },
  {
   "cell_type": "code",
   "execution_count": 192,
   "id": "37a9cae7",
   "metadata": {
    "scrolled": true
   },
   "outputs": [],
   "source": [
    "model = RandomForestClassifier(class_weight={0: class_weights[0], 1: class_weights[1]})"
   ]
  },
  {
   "cell_type": "code",
   "execution_count": 193,
   "id": "68c8637e",
   "metadata": {
    "scrolled": true
   },
   "outputs": [
    {
     "data": {
      "text/plain": [
       "RandomForestClassifier(class_weight={0: 0.7655860349127181,\n",
       "                                     1: 1.4413145539906103})"
      ]
     },
     "execution_count": 193,
     "metadata": {},
     "output_type": "execute_result"
    }
   ],
   "source": [
    "model.fit(X_train_resampled, y_train_resampled)"
   ]
  },
  {
   "cell_type": "code",
   "execution_count": 194,
   "id": "38cd9152",
   "metadata": {},
   "outputs": [],
   "source": [
    "y_pred = model.predict(X_test)"
   ]
  },
  {
   "cell_type": "markdown",
   "id": "2437a67a",
   "metadata": {},
   "source": [
    "#### Features with Outcome1:Outcome0 mean ratio of > 20%"
   ]
  },
  {
   "cell_type": "code",
   "execution_count": 153,
   "id": "3f730e83",
   "metadata": {
    "scrolled": true
   },
   "outputs": [
    {
     "name": "stdout",
     "output_type": "stream",
     "text": [
      "Accuracy: 0.7402597402597403\n",
      "Confusion Matrix:\n",
      "[[72 27]\n",
      " [13 42]]\n",
      "Classification Report:\n",
      "              precision    recall  f1-score   support\n",
      "\n",
      "           0       0.85      0.73      0.78        99\n",
      "           1       0.61      0.76      0.68        55\n",
      "\n",
      "    accuracy                           0.74       154\n",
      "   macro avg       0.73      0.75      0.73       154\n",
      "weighted avg       0.76      0.74      0.75       154\n",
      "\n"
     ]
    }
   ],
   "source": [
    "print_metrics(y_test,y_pred)"
   ]
  },
  {
   "cell_type": "markdown",
   "id": "ec0cd38f",
   "metadata": {},
   "source": [
    "#### Features with Outcome1:Outcome0 mean ratio of > 10%"
   ]
  },
  {
   "cell_type": "code",
   "execution_count": 195,
   "id": "9e7f27e1",
   "metadata": {
    "scrolled": false
   },
   "outputs": [
    {
     "name": "stdout",
     "output_type": "stream",
     "text": [
      "Accuracy: 0.7792207792207793\n",
      "Confusion Matrix:\n",
      "[[82 17]\n",
      " [17 38]]\n",
      "Classification Report:\n",
      "              precision    recall  f1-score   support\n",
      "\n",
      "           0       0.83      0.83      0.83        99\n",
      "           1       0.69      0.69      0.69        55\n",
      "\n",
      "    accuracy                           0.78       154\n",
      "   macro avg       0.76      0.76      0.76       154\n",
      "weighted avg       0.78      0.78      0.78       154\n",
      "\n"
     ]
    }
   ],
   "source": [
    "print_metrics(y_test,y_pred)"
   ]
  },
  {
   "cell_type": "markdown",
   "id": "c0f15d1d",
   "metadata": {},
   "source": [
    " "
   ]
  },
  {
   "cell_type": "markdown",
   "id": "3180be56",
   "metadata": {},
   "source": [
    "## Model 3: Decision Tree Classifier"
   ]
  },
  {
   "cell_type": "code",
   "execution_count": 196,
   "id": "6fb85bcf",
   "metadata": {},
   "outputs": [],
   "source": [
    "from sklearn.tree import DecisionTreeClassifier"
   ]
  },
  {
   "cell_type": "code",
   "execution_count": 197,
   "id": "245d1a76",
   "metadata": {},
   "outputs": [],
   "source": [
    "smote = SMOTE(sampling_strategy=1)  # Only 1.0 Works\n",
    "X_train_resampled, y_train_resampled = smote.fit_resample(X_train, y_train)"
   ]
  },
  {
   "cell_type": "code",
   "execution_count": 198,
   "id": "317ed11f",
   "metadata": {},
   "outputs": [],
   "source": [
    "class_weights = compute_class_weight(\"balanced\", classes=np.unique(y_train), y=y_train)"
   ]
  },
  {
   "cell_type": "code",
   "execution_count": 199,
   "id": "cd243592",
   "metadata": {},
   "outputs": [
    {
     "data": {
      "text/plain": [
       "DecisionTreeClassifier(class_weight={0: 0.7655860349127181,\n",
       "                                     1: 1.4413145539906103})"
      ]
     },
     "execution_count": 199,
     "metadata": {},
     "output_type": "execute_result"
    }
   ],
   "source": [
    "model = DecisionTreeClassifier(class_weight={0: class_weights[0], 1: class_weights[1]})\n",
    "model.fit(X_train_resampled, y_train_resampled)"
   ]
  },
  {
   "cell_type": "code",
   "execution_count": 200,
   "id": "baf778db",
   "metadata": {},
   "outputs": [],
   "source": [
    "y_pred = model.predict(X_test)"
   ]
  },
  {
   "cell_type": "markdown",
   "id": "35e088d3",
   "metadata": {},
   "source": [
    "#### Features with Outcome1:Outcome0 mean ratio of > 20%"
   ]
  },
  {
   "cell_type": "code",
   "execution_count": 160,
   "id": "16e1b02a",
   "metadata": {
    "scrolled": false
   },
   "outputs": [
    {
     "name": "stdout",
     "output_type": "stream",
     "text": [
      "Accuracy: 0.6688311688311688\n",
      "Confusion Matrix:\n",
      "[[71 28]\n",
      " [23 32]]\n",
      "Classification Report:\n",
      "              precision    recall  f1-score   support\n",
      "\n",
      "           0       0.76      0.72      0.74        99\n",
      "           1       0.53      0.58      0.56        55\n",
      "\n",
      "    accuracy                           0.67       154\n",
      "   macro avg       0.64      0.65      0.65       154\n",
      "weighted avg       0.68      0.67      0.67       154\n",
      "\n"
     ]
    }
   ],
   "source": [
    "print_metrics(y_test,y_pred)"
   ]
  },
  {
   "cell_type": "markdown",
   "id": "3c55df97",
   "metadata": {},
   "source": [
    "#### Features with Outcome1:Outcome0 mean ratio of > 10%"
   ]
  },
  {
   "cell_type": "code",
   "execution_count": 201,
   "id": "5e0ff4f2",
   "metadata": {
    "scrolled": true
   },
   "outputs": [
    {
     "name": "stdout",
     "output_type": "stream",
     "text": [
      "Accuracy: 0.7467532467532467\n",
      "Confusion Matrix:\n",
      "[[81 18]\n",
      " [21 34]]\n",
      "Classification Report:\n",
      "              precision    recall  f1-score   support\n",
      "\n",
      "           0       0.79      0.82      0.81        99\n",
      "           1       0.65      0.62      0.64        55\n",
      "\n",
      "    accuracy                           0.75       154\n",
      "   macro avg       0.72      0.72      0.72       154\n",
      "weighted avg       0.74      0.75      0.75       154\n",
      "\n"
     ]
    }
   ],
   "source": [
    "print_metrics(y_test,y_pred)"
   ]
  },
  {
   "cell_type": "markdown",
   "id": "0b9117a6",
   "metadata": {},
   "source": [
    " "
   ]
  },
  {
   "cell_type": "markdown",
   "id": "c66928ef",
   "metadata": {},
   "source": [
    "## Model 4: Support Vector Machine"
   ]
  },
  {
   "cell_type": "code",
   "execution_count": 202,
   "id": "d171c0b1",
   "metadata": {},
   "outputs": [],
   "source": [
    "from sklearn.svm import SVC"
   ]
  },
  {
   "cell_type": "code",
   "execution_count": 203,
   "id": "b6e9b603",
   "metadata": {},
   "outputs": [],
   "source": [
    "smote = SMOTE(sampling_strategy=1.0)  # Only 1.0 works\n",
    "X_train_resampled, y_train_resampled = smote.fit_resample(X_train, y_train)"
   ]
  },
  {
   "cell_type": "code",
   "execution_count": 204,
   "id": "16d4e5a2",
   "metadata": {},
   "outputs": [],
   "source": [
    "class_weights = compute_class_weight(\"balanced\", classes=np.unique(y_train), y=y_train)"
   ]
  },
  {
   "cell_type": "code",
   "execution_count": 205,
   "id": "790f3573",
   "metadata": {},
   "outputs": [
    {
     "data": {
      "text/plain": [
       "SVC(class_weight={0: 0.7655860349127181, 1: 1.4413145539906103})"
      ]
     },
     "execution_count": 205,
     "metadata": {},
     "output_type": "execute_result"
    }
   ],
   "source": [
    "model = SVC(class_weight={0: class_weights[0], 1: class_weights[1]})\n",
    "model.fit(X_train_resampled, y_train_resampled)"
   ]
  },
  {
   "cell_type": "code",
   "execution_count": 206,
   "id": "b62fcfe0",
   "metadata": {},
   "outputs": [],
   "source": [
    "y_pred = model.predict(X_test)"
   ]
  },
  {
   "cell_type": "markdown",
   "id": "abed40d0",
   "metadata": {},
   "source": [
    "#### Features with Outcome1:Outcome0 mean ratio of > 20%"
   ]
  },
  {
   "cell_type": "code",
   "execution_count": 167,
   "id": "9c3e9faa",
   "metadata": {
    "scrolled": false
   },
   "outputs": [
    {
     "name": "stdout",
     "output_type": "stream",
     "text": [
      "Accuracy: 0.6168831168831169\n",
      "Confusion Matrix:\n",
      "[[45 54]\n",
      " [ 5 50]]\n",
      "Classification Report:\n",
      "              precision    recall  f1-score   support\n",
      "\n",
      "           0       0.90      0.45      0.60        99\n",
      "           1       0.48      0.91      0.63        55\n",
      "\n",
      "    accuracy                           0.62       154\n",
      "   macro avg       0.69      0.68      0.62       154\n",
      "weighted avg       0.75      0.62      0.61       154\n",
      "\n"
     ]
    }
   ],
   "source": [
    "print_metrics(y_test,y_pred)"
   ]
  },
  {
   "cell_type": "markdown",
   "id": "53f46ec5",
   "metadata": {},
   "source": [
    "#### Features with Outcome1:Outcome0 mean ratio of > 10%"
   ]
  },
  {
   "cell_type": "code",
   "execution_count": 207,
   "id": "5fd16d69",
   "metadata": {
    "scrolled": true
   },
   "outputs": [
    {
     "name": "stdout",
     "output_type": "stream",
     "text": [
      "Accuracy: 0.6103896103896104\n",
      "Confusion Matrix:\n",
      "[[45 54]\n",
      " [ 6 49]]\n",
      "Classification Report:\n",
      "              precision    recall  f1-score   support\n",
      "\n",
      "           0       0.88      0.45      0.60        99\n",
      "           1       0.48      0.89      0.62        55\n",
      "\n",
      "    accuracy                           0.61       154\n",
      "   macro avg       0.68      0.67      0.61       154\n",
      "weighted avg       0.74      0.61      0.61       154\n",
      "\n"
     ]
    }
   ],
   "source": [
    "print_metrics(y_test,y_pred)"
   ]
  },
  {
   "cell_type": "markdown",
   "id": "7dcd75dc",
   "metadata": {},
   "source": [
    " "
   ]
  },
  {
   "cell_type": "markdown",
   "id": "007bc0a1",
   "metadata": {},
   "source": [
    "## Model Metrics"
   ]
  },
  {
   "cell_type": "code",
   "execution_count": 209,
   "id": "432217d7",
   "metadata": {},
   "outputs": [],
   "source": [
    "accuracy = [0.6753, 0.6428, 0.7403, 0.7792, 0.6688, 0.7475, 0.6169, 0.6103]\n",
    "precision = [0.53, 0.50, 0.61, 0.69, 0.53, 0.65, 0.48, 0.48]\n",
    "recall = [0.93, 0.87, 0.76, 0.69, 0.58, 0.62, 0.91, 0.89]\n",
    "f1score = [0.67, 0.64, 0.68, 0.69, 0.56, 0.64, 0.63, 0.62]\n",
    "modelname = [\"LR1\", \"LR2\", \"RF1\", \"RF2\", \"DT1\", \"DT2\", \"SVM1\", \"SVM2\"]\n",
    "modelmetrics = [accuracy,precision,recall,f1score]"
   ]
  },
  {
   "cell_type": "code",
   "execution_count": 212,
   "id": "0143cb7e",
   "metadata": {},
   "outputs": [
    {
     "data": {
      "image/png": "[encoded data removed]",
      "text/plain": [
       "<Figure size 1500x1000 with 4 Axes>"
      ]
     },
     "metadata": {},
     "output_type": "display_data"
    }
   ],
   "source": [
    "model_metrics(modelname,modelmetrics)"
   ]
  },
  {
   "cell_type": "markdown",
   "id": "7dcf8f23",
   "metadata": {},
   "source": [
    "The Random Forest models did well in terms of overall accuracy, precision and f1-score. However, it significantly lagged behind the other models when it comes to recall.\n",
    "\n",
    "The Logistic Regression models did very well in terms of recall metrics and f1-score but it is the second best model in terms of precision and accuracy."
   ]
  },
  {
   "cell_type": "markdown",
   "id": "d061920c",
   "metadata": {},
   "source": [
    " "
   ]
  },
  {
   "cell_type": "markdown",
   "id": "142ed923",
   "metadata": {},
   "source": [
    "# Part IV : Conclusion"
   ]
  },
  {
   "cell_type": "markdown",
   "id": "8aaec134",
   "metadata": {},
   "source": [
    "From the machine learning models developed and the exploratory data analysis (EDA) conducted, generate four bullet points as your findings."
   ]
  },
  {
   "cell_type": "markdown",
   "id": "7829187d",
   "metadata": {},
   "source": [
    "### Non-Technical Findings"
   ]
  },
  {
   "cell_type": "markdown",
   "id": "2f932632",
   "metadata": {},
   "source": [
    "1. Pregnancies\n",
    "    - Within the dataset, pregnancies does not seem to affect the number chance of getting diabetic. Based on the pie chart, both persons that got pregnant or did not get pregnant have 35% of diabetics. \n",
    "    - However, close to half of those who had pregnancies more than three times have diabetes compared to a quarter of diabetics on those who had 3 or less pregnancies.\n",
    "\n",
    "2. Mean\n",
    "    - In General, those who have higher mean in pregnancies, blood pressure, skin thickness, BMI, Glucose, Insulin, Diabetes Pedigree Function and age are likely diabetic.\n",
    "    \n",
    "3. Range\n",
    "    - based on the shape of the data, those who are diabetic are likely to be in the higher range of the features mention above. For instance, higher blood pressure and glucose.\n",
    "    - In addition, in this particular data set, most of the people  who have diabetics belongs to the younger age group."
   ]
  },
  {
   "cell_type": "markdown",
   "id": "bde40e47",
   "metadata": {},
   "source": [
    "### Technical Findings"
   ]
  },
  {
   "cell_type": "markdown",
   "id": "39bf8fc1",
   "metadata": {},
   "source": [
    "1. Shape of the Data\n",
    "    - Based on the histogram in Part I, the data in this data set are mostly skewed to the right except for Blood Pressure, BMI and Glucose. Which are expected for this features as it these are vitals and body measures that usually lies in the centre of the range.\n",
    "    - However, when the dataset is divided into two, one with Outcome = 1 and one with Outcome = 0, the sape of Glucose and Blood Pressure have become slightly skewed to the left. This means that those who have Outcome = 1 are generally on the higher range of Glucose level range and Blood Pressure Rate. Which is not true to the dataset where Outcome = 0.\n",
    "    \n",
    "    \n",
    "2. Feature Means / Feature Selection\n",
    "    - In general, the mean of all features are higher in the instances who's Outcome = 1.\n",
    "    - The mean Pregnancies, Insulin, Glucose and the Diabetes Pedigree Function are significantly higher in the instances who's Outcome = 1.\n",
    "\n",
    "\n",
    "3. Handling Imbalanced Data Set\n",
    "    - In part 1, the ratio of of dataset where Outcome = 1 is 1:3 to the instances where Outcome = 0. To handle this, SMOTE and Class Weights are used.\n",
    "    \n",
    "    \n",
    "4. Model Performance\n",
    "    - For medical diagnostics, it is ideal for a model to have a higher score in predicting who have the disease with some false positives than a higher score in predicting who does not have a disease with some false negatives. Therefore, Recall can be used as a metric in evaluating the four ML models.\n",
    "    - Based on the visualization in the metrics, Logistic Regression from either of the dataset groups did well in predicting the outcome of this dataset."
   ]
  },
  {
   "cell_type": "markdown",
   "id": "da0ff7a1",
   "metadata": {},
   "source": [
    "# FUNCTIONS"
   ]
  },
  {
   "cell_type": "code",
   "execution_count": 86,
   "id": "94f340ab",
   "metadata": {},
   "outputs": [],
   "source": [
    "def make_hist(df, figure_size=(15,10), box_size=(3,3),colour=\"lightsteelblue\", labels=[\"Value\", \"Frequency\"]):\n",
    "    import pandas as pd\n",
    "    import numpy as np\n",
    "    import matplotlib.pyplot as plt\n",
    "    \n",
    "    df = pd.DataFrame(df)\n",
    "    columns = df.columns\n",
    "    bin_width = int(np.sqrt(len(df)))\n",
    "    \n",
    "    plt.figure(figsize=figure_size)\n",
    "    \n",
    "    for i in range(len(columns)):\n",
    "        plt.subplot(box_size[0], box_size[1], i+1)  \n",
    "        plt.subplots_adjust(hspace=0.4)\n",
    "        plt.hist(df[columns[i]], bins=bin_width, color=colour, edgecolor='k')\n",
    "        plt.title(columns[i])\n",
    "        plt.xlabel(labels[0])\n",
    "        plt.ylabel(labels[1])\n",
    "    plt.show()"
   ]
  },
  {
   "cell_type": "code",
   "execution_count": 63,
   "id": "10eff645",
   "metadata": {},
   "outputs": [],
   "source": [
    "def get_zeros(df):\n",
    "    import pandas as pd\n",
    "    import numpy as np\n",
    "    import matplotlib.pyplot as plt\n",
    "    \n",
    "    df = pd.DataFrame(df)\n",
    "    \n",
    "    columns = df.columns\n",
    "    col_name = []\n",
    "    zero_count = [0 for col in range(len(columns))]\n",
    "    \n",
    "    for i in range(len(columns)):\n",
    "        col_name.append(columns[i])\n",
    "        for j in range(len(df[columns[i]])):\n",
    "            if ((df[columns[i]][j]) == 0):\n",
    "                zero_count[i]+= 1\n",
    "        \n",
    "        print(col_name[i], \"Zero Values: \", zero_count[i])"
   ]
  },
  {
   "cell_type": "code",
   "execution_count": 119,
   "id": "efd47f1f",
   "metadata": {},
   "outputs": [],
   "source": [
    "def print_metrics(y_test,y_pred):\n",
    "    from sklearn.metrics import accuracy_score, confusion_matrix, classification_report\n",
    "\n",
    "    \n",
    "    accuracy = accuracy_score(y_test, y_pred)\n",
    "    confusion = confusion_matrix(y_test, y_pred)\n",
    "    classification_rep = classification_report(y_test, y_pred)\n",
    "    \n",
    "    print(f\"Accuracy: {accuracy}\")\n",
    "    print(f\"Confusion Matrix:\\n{confusion}\")\n",
    "    print(f\"Classification Report:\\n{classification_rep}\")"
   ]
  },
  {
   "cell_type": "code",
   "execution_count": 211,
   "id": "49a60fea",
   "metadata": {},
   "outputs": [],
   "source": [
    "def model_metrics(modelname,modelmetrics):\n",
    "    # Create dataset's histograms\n",
    "    plt.figure(figsize=(15, 10))\n",
    "    plt.subplot(2, 2, 1)  \n",
    "    plt.subplots_adjust(hspace=0.4)\n",
    "    plt.bar(modelname, modelmetrics[0])\n",
    "    plt.title(\"Model Accuracy\")\n",
    "    plt.xlabel('Model')\n",
    "    plt.ylabel('Accuracy')\n",
    "\n",
    "\n",
    "    plt.subplot(2, 2, 2)  \n",
    "    plt.subplots_adjust(hspace=0.4)\n",
    "    plt.bar(modelname, modelmetrics[1])\n",
    "    plt.title(\"Model Precession\")\n",
    "    plt.xlabel('Model')\n",
    "    plt.ylabel('Preceision')\n",
    "\n",
    "    plt.subplot(2, 2, 3)  \n",
    "    plt.subplots_adjust(hspace=0.4)\n",
    "    plt.bar(modelname, modelmetrics[2])\n",
    "    plt.title(\"Model Recall\")\n",
    "    plt.xlabel('Model')\n",
    "    plt.ylabel('Recall')\n",
    "\n",
    "    plt.subplot(2, 2, 4)  \n",
    "    plt.subplots_adjust(hspace=0.4)\n",
    "    plt.bar(modelname, modelmetrics[3])\n",
    "    plt.title(\"Model f1-Score\")\n",
    "    plt.xlabel('Model')\n",
    "    plt.ylabel('f1-Score')"
   ]
  },
  {
   "cell_type": "code",
   "execution_count": null,
   "id": "3f25a0c3",
   "metadata": {},
   "outputs": [],
   "source": []
  }
 ],
 "metadata": {
  "kernelspec": {
   "display_name": "Python 3 (ipykernel)",
   "language": "python",
   "name": "python3"
  },
  "language_info": {
   "codemirror_mode": {
    "name": "ipython",
    "version": 3
   },
   "file_extension": ".py",
   "mimetype": "text/x-python",
   "name": "python",
   "nbconvert_exporter": "python",
   "pygments_lexer": "ipython3",
   "version": "3.9.13"
  }
 },
 "nbformat": 4,
 "nbformat_minor": 5
}
