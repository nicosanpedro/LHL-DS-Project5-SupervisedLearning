{
 "cells": [
  {
   "cell_type": "markdown",
   "id": "52fd853f",
   "metadata": {},
   "source": [
    "## 1. Multiple Histograms\n"
   ]
  },
  {
   "cell_type": "code",
   "execution_count": 14,
   "id": "2dae690c",
   "metadata": {},
   "outputs": [],
   "source": [
    "def make_hist(df, figure_size=(15,10), box_size=(3,3),colour=\"lightsteelblue\", labels=[\"Value\", \"Frequency\"]):\n",
    "    import pandas as pd\n",
    "    import numpy as np\n",
    "    import matplotlib.pyplot as plt\n",
    "    \n",
    "    df = pd.DataFrame(df)\n",
    "    columns = df.columns\n",
    "    bin_width = int(np.sqrt(len(df)))\n",
    "    \n",
    "    plt.figure(figsize=figure_size)\n",
    "    \n",
    "    for i in range(len(columns)):\n",
    "        plt.subplot(box_size[0], box_size[1], i+1)  \n",
    "        plt.subplots_adjust(hspace=0.4)\n",
    "        plt.hist(df[columns[i]], bins=bin_width, color=colour, edgecolor='k')\n",
    "        plt.title(columns[i])\n",
    "        plt.xlabel(labels[0])\n",
    "        plt.ylabel(labels[1])\n",
    "    plt.show()"
   ]
  },
  {
   "cell_type": "markdown",
   "id": "46c93cfd",
   "metadata": {},
   "source": [
    "## 2. Get Zero Values"
   ]
  },
  {
   "cell_type": "code",
   "execution_count": 15,
   "id": "26cbafec",
   "metadata": {},
   "outputs": [],
   "source": [
    "def get_zeros(df):\n",
    "    import pandas as pd\n",
    "    import numpy as np\n",
    "    import matplotlib.pyplot as plt\n",
    "    \n",
    "    df = pd.DataFrame(df)\n",
    "    \n",
    "    columns = df.columns\n",
    "    col_name = []\n",
    "    zero_count = [0 for col in range(len(columns))]\n",
    "    \n",
    "    for i in range(len(columns)):\n",
    "        col_name.append(columns[i])\n",
    "        for j in range(len(df[columns[i]])):\n",
    "            if ((df[columns[i]][j]) == 0):\n",
    "                zero_count[i]+= 1\n",
    "        \n",
    "        print(col_name[i], \"Zero Values: \", zero_count[i])"
   ]
  },
  {
   "cell_type": "markdown",
   "id": "7a1ce7dc",
   "metadata": {},
   "source": [
    "## 3. Print Classification Metrics"
   ]
  },
  {
   "cell_type": "code",
   "execution_count": 17,
   "id": "afb94b6f",
   "metadata": {},
   "outputs": [],
   "source": [
    "def print_metrics(y_test,y_pred):\n",
    "    from sklearn.metrics import accuracy_score, confusion_matrix, classification_report\n",
    "\n",
    "    \n",
    "    accuracy = accuracy_score(y_test, y_pred)\n",
    "    confusion = confusion_matrix(y_test, y_pred)\n",
    "    classification_rep = classification_report(y_test, y_pred)\n",
    "    \n",
    "    print(f\"Accuracy: {accuracy}\")\n",
    "    print(f\"Confusion Matrix:\\n{confusion}\")\n",
    "    print(f\"Classification Report:\\n{classification_rep}\")"
   ]
  },
  {
   "cell_type": "code",
   "execution_count": null,
   "id": "470bd7da",
   "metadata": {},
   "outputs": [],
   "source": []
  },
  {
   "cell_type": "code",
   "execution_count": null,
   "id": "efa9c114",
   "metadata": {},
   "outputs": [],
   "source": []
  },
  {
   "cell_type": "code",
   "execution_count": null,
   "id": "488ae6fd",
   "metadata": {},
   "outputs": [],
   "source": []
  },
  {
   "cell_type": "code",
   "execution_count": null,
   "id": "98150b64",
   "metadata": {},
   "outputs": [],
   "source": []
  },
  {
   "cell_type": "code",
   "execution_count": null,
   "id": "612343f5",
   "metadata": {},
   "outputs": [],
   "source": []
  },
  {
   "cell_type": "code",
   "execution_count": null,
   "id": "ebbcfe4f",
   "metadata": {},
   "outputs": [],
   "source": []
  },
  {
   "cell_type": "code",
   "execution_count": null,
   "id": "55d36466",
   "metadata": {},
   "outputs": [],
   "source": []
  },
  {
   "cell_type": "code",
   "execution_count": null,
   "id": "cfc48985",
   "metadata": {},
   "outputs": [],
   "source": []
  },
  {
   "cell_type": "code",
   "execution_count": null,
   "id": "3c62a6ff",
   "metadata": {},
   "outputs": [],
   "source": []
  },
  {
   "cell_type": "code",
   "execution_count": null,
   "id": "d986fa6c",
   "metadata": {},
   "outputs": [],
   "source": []
  },
  {
   "cell_type": "code",
   "execution_count": null,
   "id": "15c63379",
   "metadata": {},
   "outputs": [],
   "source": []
  },
  {
   "cell_type": "code",
   "execution_count": null,
   "id": "086d5008",
   "metadata": {},
   "outputs": [],
   "source": []
  },
  {
   "cell_type": "code",
   "execution_count": null,
   "id": "610c11e9",
   "metadata": {},
   "outputs": [],
   "source": []
  }
 ],
 "metadata": {
  "kernelspec": {
   "display_name": "Python 3 (ipykernel)",
   "language": "python",
   "name": "python3"
  },
  "language_info": {
   "codemirror_mode": {
    "name": "ipython",
    "version": 3
   },
   "file_extension": ".py",
   "mimetype": "text/x-python",
   "name": "python",
   "nbconvert_exporter": "python",
   "pygments_lexer": "ipython3",
   "version": "3.9.13"
  }
 },
 "nbformat": 4,
 "nbformat_minor": 5
}
